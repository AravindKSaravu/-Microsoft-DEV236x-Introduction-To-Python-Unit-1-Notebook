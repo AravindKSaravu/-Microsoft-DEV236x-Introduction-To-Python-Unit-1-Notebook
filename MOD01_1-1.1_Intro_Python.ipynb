{
  "cells": [
    {
      "metadata": {
        "slideshow": {
          "slide_type": "slide"
        }
      },
      "cell_type": "markdown",
      "source": "# 1-1.1 Intro Python\n##  Getting started with Python in Jupyter Notebooks\n- **Python 3 in Jupyter notebooks**\n- **`print()`**\n- **comments** \n- data types basics\n- variables\n- addition with Strings and Integers \n- Errors\n- character art  \n\n-----\n\n\n><font size=\"5\" color=\"#00A0B2\"  face=\"verdana\"> <B>Student will be able to</B></font>\n- **use Python 3 in Jupyter notebooks**  \n- **write working code using `print()` and `#` comments**  \n- combine Strings using string addition (`+`)\n- add numbers in code (`+`) \n- troubleshoot errors\n- create character art"
    },
    {
      "metadata": {},
      "cell_type": "markdown",
      "source": "# &nbsp;\n<font size=\"6\" color=\"#00A0B2\"  face=\"verdana\"> <B>Concept</B></font>\n## Hello World! - python&nbsp; `print()` statement\nUsing code to write \"Hello World!\" on the screen is the traditional first program when learning a new language in computer science\n\nPython has a very simple implementation: \n```python\nprint(\"Hello World!\")\n```  "
    },
    {
      "metadata": {
        "slideshow": {
          "slide_type": "subslide"
        }
      },
      "cell_type": "markdown",
      "source": "## \"Hello World!\" \n[![view video](https://iajupyterprodblobs.blob.core.windows.net/imagecontainer/common/play_video.png)]( http://edxinteractivepage.blob.core.windows.net/edxpages/f7cff1a7-5601-48a1-95a6-fd1fdfabd20e.html?details=[{\"src\":\"http://jupyternootbookwams.streaming.mediaservices.windows.net/6f5784c6-eece-4dfe-a14e-9dcf6ee81a7f/Unit1_Section1.1-Hello_World.ism/manifest\",\"type\":\"application/vnd.ms-sstr+xml\"}],[{\"src\":\"http://jupyternootbookwams.streaming.mediaservices.windows.net/6f5784c6-eece-4dfe-a14e-9dcf6ee81a7f/Unit1_Section1.1-Hello_World.vtt\",\"srclang\":\"en\",\"kind\":\"subtitles\",\"label\":\"english\"}])\n\nOur \"Hello World!\" program worked because this notebook hosts a python interpreter that can run python code cells.   \n\nTry showing \n```python \n\"Hello programmer!\" \n``` \nenter new text inside the quotations in the cell above. Click on the cell to edit the code. \n\nWhat happens if any part of &nbsp;`print`&nbsp; is capitalized or what happens there are no quotation marks around the greeting?\n## Methods for running the code in a cell\n1. **Click in the cell below** and **press \"Ctrl+Enter\"** to run the code  \n&nbsp; &nbsp; or\n2. **Click in the cell below** and **press \"Shift+Enter\"** to run the code and move to the next cell  \n&nbsp;\n3. **Menu: Cell**...  \n  a. **> Run Cells** runs the highlighted cell(s)  \n  b. **> Run All Above** runs the highlighted cell and above  \n  c. **> Run All Below** runs the highlighted cell and below "
    },
    {
      "metadata": {},
      "cell_type": "markdown",
      "source": "<font size=\"4\" color=\"#00A0B2\"  face=\"verdana\"> <B>Example</B></font>"
    },
    {
      "metadata": {
        "slideshow": {
          "slide_type": "subslide"
        },
        "trusted": false
      },
      "cell_type": "code",
      "source": "# [ ] Review the code, run the code\nprint(\"Hello world\")",
      "execution_count": null,
      "outputs": []
    },
    {
      "metadata": {},
      "cell_type": "markdown",
      "source": "# &nbsp;\n<font size=\"6\" color=\"#00A0B2\"  face=\"verdana\"> <B>Concept</B></font>\n## Comments\n[![view video](https://iajupyterprodblobs.blob.core.windows.net/imagecontainer/common/play_video.png)]( http://edxinteractivepage.blob.core.windows.net/edxpages/f7cff1a7-5601-48a1-95a6-fd1fdfabd20e.html?details=[{\"src\":\"http://jupyternootbookwams.streaming.mediaservices.windows.net/34e2afb1-d07a-44ca-8860-bba1a5476caa/Unit1_Section1.1-Comments.ism/manifest\",\"type\":\"application/vnd.ms-sstr+xml\"}],[{\"src\":\"http://jupyternootbookwams.streaming.mediaservices.windows.net/34e2afb1-d07a-44ca-8860-bba1a5476caa/Unit1_Section1.1-Comments.vtt\",\"srclang\":\"en\",\"kind\":\"subtitles\",\"label\":\"english\"}])\nWhen coding, programmers include comments for explanation of how code works for reminders and to help others who encounter the code\n### comment start with the  `#`  symbol"
    },
    {
      "metadata": {},
      "cell_type": "markdown",
      "source": "# &nbsp;\n<font size=\"6\" color=\"#00A0B2\"  face=\"verdana\"> <B>Example</B></font>"
    },
    {
      "metadata": {
        "collapsed": true,
        "trusted": false
      },
      "cell_type": "code",
      "source": "# this is how a comment looks in python code\n# every comment line starts with the # symbol",
      "execution_count": null,
      "outputs": []
    },
    {
      "metadata": {},
      "cell_type": "markdown",
      "source": "# &nbsp;\n<font size=\"6\" color=\"#B24C00\"  face=\"verdana\"> <B>Task 1</B></font>\n## Program: \"Hello World!\" with comment\n- add a comment describing the code purpose\n- create an original \"Hello World\" style message"
    },
    {
      "metadata": {
        "trusted": false
      },
      "cell_type": "code",
      "source": "",
      "execution_count": null,
      "outputs": []
    },
    {
      "metadata": {},
      "cell_type": "markdown",
      "source": "# &nbsp;\n<font size=\"6\" color=\"#00A0B2\"  face=\"verdana\"> <B>Concepts</B></font>\n## Notebooks and Libraries\nJupyter Notebooks provide a balance of jotting down important summary information along with proving a live code development environment where we can write and run python code.  This course uses cloud hosted Jupyter [Notebooks](https://notebooks.azure.com) on Microsoft Azure and we will walk through the basics and some best practices for notebook use.  \n\n## add a notebook library\n- New: https://notebooks.azure.com/library > New Library\n- Link: from a shared Azure Notebook library link > open link, sign in> clone and Run\n- Add: open library > Add Notebooks > from computer > navigate to file(s)\n\n## working in notebook cells  \n- **Markdown cells** display text in a web page format. Markdown is code that formats the way the cell displays (*this cell is Markdown*)  \n&nbsp;  \n- **Code cells** contain python code and can be interpreted and run from a cell. Code cells display code and output.  \n&nbsp;  \n- **in edit** or **previously run:** cells can display in editing mode or cells can display results of *code* having been run \n  \n[![view video](https://iajupyterprodblobs.blob.core.windows.net/imagecontainer/common/play_video.png)]( http://edxinteractivepage.blob.core.windows.net/edxpages/f7cff1a7-5601-48a1-95a6-fd1fdfabd20e.html?details=[{\"src\":\"http://jupyternootbookwams.streaming.mediaservices.windows.net/6b9134fc-c7d7-4d25-b0a7-bdb79d3e1a5b/Unit1_Section1.1-EditRunSave.ism/manifest\",\"type\":\"application/vnd.ms-sstr+xml\"}],[{\"src\":\"http://jupyternootbookwams.streaming.mediaservices.windows.net/6b9134fc-c7d7-4d25-b0a7-bdb79d3e1a5b/Unit1_Section1.1-EditRunSave.vtt\",\"srclang\":\"en\",\"kind\":\"subtitles\",\"label\":\"english\"}])\n \n### edit mode  \n- **text** cells in editing mode show markdown code  \n- Markdown cells keep editing mode appearance until the cell is run  \n- **code** (python 3) cells in editing look the same after editing, but may show different run output  \n- clicking another cell moves the green highlight that indicates which cell has active editing focus  \n  \n### cells need to be saved\n- the notebook will frequently auto save\n- **best practice** is to manually save after editing a cell using **\"Ctrl + S\"** or alternatively, **Menu: File > Save and Checkpoint**\n"
    },
    {
      "metadata": {},
      "cell_type": "markdown",
      "source": "# &nbsp;\n<font size=\"6\" color=\"#00A0B2\"  face=\"verdana\"> <B>Concepts</B></font>\n## Altering Notebook Structure\n[![view video](https://iajupyterprodblobs.blob.core.windows.net/imagecontainer/common/play_video.png)]( http://edxinteractivepage.blob.core.windows.net/edxpages/f7cff1a7-5601-48a1-95a6-fd1fdfabd20e.html?details=[{\"src\":\"http://jupyternootbookwams.streaming.mediaservices.windows.net/cb195105-eee8-4068-9007-64b2392cd9ff/Unit1_Section1.1-Language_Cells.ism/manifest\",\"type\":\"application/vnd.ms-sstr+xml\"}],[{\"src\":\"http://jupyternootbookwams.streaming.mediaservices.windows.net/cb195105-eee8-4068-9007-64b2392cd9ff/Unit1_Section1.1-Language_Cells.vtt\",\"srclang\":\"en\",\"kind\":\"subtitles\",\"label\":\"english\"}])\n### add a cell\n- Highlight any cell and then... add a new cell using **Menu: Insert > Insert Cell Below** or **Insert Cell Above**\n- Add with Keyboard Shortcut: **\"ESC + A\"** to insert above or **\"ESC + B\"** to insert below\n\n### choose cell type\n- Format cells as Markdown or Code via the toolbar dropdown or **Menu: Cell > Cell Type > Code** or **Markdown** \n- Cells default to Code when created but can be reformatted from code to Markdown and vice versa  \n\n### change notebook page language\n- The course uses Python 3 but Jupyter Notebooks can be in Python 2 or 3 (and a language called R)\n- To change a notebook to Python 3 go to **\"Menu: Kernel > Change Kernel> Python 3\"**\n"
    },
    {
      "metadata": {},
      "cell_type": "markdown",
      "source": "# &nbsp;\n<font size=\"6\" color=\"#B24C00\"  face=\"verdana\"> <B>Task 2</B></font>\n## Insert a new cell\n-  Insert a new Code cell below with a comment describing the task\n-  edit cell: add print() with the message \"after edit, save!\"\n-  run the cell"
    },
    {
      "metadata": {
        "trusted": false
      },
      "cell_type": "code",
      "source": "",
      "execution_count": null,
      "outputs": []
    },
    {
      "metadata": {},
      "cell_type": "markdown",
      "source": "### Insert another new cell\n- Insert a new Code cell below \n- edit cell: add print() with the message showing the keyboard Shortcut to save **Ctrl + s**\n- run the cell"
    },
    {
      "metadata": {
        "trusted": false
      },
      "cell_type": "code",
      "source": "",
      "execution_count": null,
      "outputs": []
    },
    {
      "metadata": {
        "collapsed": true,
        "trusted": false
      },
      "cell_type": "code",
      "source": "",
      "execution_count": null,
      "outputs": []
    },
    {
      "metadata": {
        "collapsed": true,
        "trusted": false
      },
      "cell_type": "code",
      "source": "",
      "execution_count": null,
      "outputs": []
    },
    {
      "metadata": {},
      "cell_type": "markdown",
      "source": "[Terms of use](http://go.microsoft.com/fwlink/?LinkID=206977) &nbsp; [Privacy & cookies](https://go.microsoft.com/fwlink/?LinkId=521839) &nbsp; © 2017 Microsoft"
    }
  ],
  "metadata": {
    "anaconda-cloud": {},
    "kernelspec": {
      "name": "python3",
      "display_name": "Python 3",
      "language": "python"
    },
    "language_info": {
      "mimetype": "text/x-python",
      "nbconvert_exporter": "python",
      "name": "python",
      "pygments_lexer": "ipython3",
      "version": "3.5.4",
      "file_extension": ".py",
      "codemirror_mode": {
        "version": 3,
        "name": "ipython"
      }
    }
  },
  "nbformat": 4,
  "nbformat_minor": 1
}