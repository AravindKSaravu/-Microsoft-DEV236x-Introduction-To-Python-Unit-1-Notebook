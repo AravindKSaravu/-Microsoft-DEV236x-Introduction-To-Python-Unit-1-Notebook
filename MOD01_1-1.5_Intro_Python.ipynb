{
 "cells": [
  {
   "cell_type": "markdown",
   "metadata": {
    "slideshow": {
     "slide_type": "slide"
    }
   },
   "source": [
    "# 1-1.5 Intro Python\n",
    "##  Getting started with Python in Jupyter Notebooks\n",
    "- Python 3 in Jupyter notebooks\n",
    "- `print()`\n",
    "- comments \n",
    "- data types basics\n",
    "- variables\n",
    "- addition with Strings and Integers \n",
    "- Errors  \n",
    "- **character art**  \n",
    "\n",
    "-----\n",
    "\n",
    "\n",
    "><font size=\"5\" color=\"#00A0B2\"  face=\"verdana\"> <B>Student will be able to</B></font>\n",
    "- use Python 3 in Jupyter notebooks\n",
    "- write working code using `print()`, `type()`, comments and variables\n",
    "- combine Strings using string addition (+)\n",
    "- add numbers in code (+) \n",
    "- troubleshoot errors  \n",
    "- **create character art**"
   ]
  },
  {
   "cell_type": "markdown",
   "metadata": {},
   "source": [
    "# &nbsp;\n",
    "<font size=\"6\" color=\"#00A0B2\"  face=\"verdana\"> <B>Extra Activity</B></font>\n",
    "## print() character art\n",
    "[![view video](https://iajupyterprodblobs.blob.core.windows.net/imagecontainer/common/play_video.png)]( http://edxinteractivepage.blob.core.windows.net/edxpages/f7cff1a7-5601-48a1-95a6-fd1fdfabd20e.html?details=[{\"src\":\"http://jupyternootbookwams.streaming.mediaservices.windows.net/d7a3d1b4-8d8d-4e9e-a984-a6920bcd7ca1/Unit1_Section1.5-ASCII_Art.ism/manifest\",\"type\":\"application/vnd.ms-sstr+xml\"}],[{\"src\":\"http://jupyternootbookwams.streaming.mediaservices.windows.net/d7a3d1b4-8d8d-4e9e-a984-a6920bcd7ca1/Unit1_Section1.5-ASCII_Art.vtt\",\"srclang\":\"en\",\"kind\":\"subtitles\",\"label\":\"english\"}])\n",
    "print() output to the console can create character art in the forms of pictures and stylized text. Below we show how to create a stylized letter \"A\" "
   ]
  },
  {
   "cell_type": "code",
   "execution_count": null,
   "metadata": {
    "collapsed": false
   },
   "outputs": [],
   "source": [
    "# the letter 'A'\n",
    "print(\"    *\")\n",
    "print(\"   * *\")\n",
    "print(\"  *****\")\n",
    "print(\" *     *\")\n",
    "print(\"*       *\")\n",
    "print()"
   ]
  },
  {
   "cell_type": "markdown",
   "metadata": {
    "collapsed": false
   },
   "source": [
    "<font size=\"6\" color=\"#B24C00\"  face=\"verdana\"> <B>Extra Task</B></font>  \n",
    "- create the flying bird in character art in the Code cell below\n",
    "\n",
    "```\n",
    "\n",
    "_         _      \n",
    " \\       /     \n",
    "  \\ . . /   \n",
    "     V   \n",
    "\n",
    "```  \n"
   ]
  },
  {
   "cell_type": "code",
   "execution_count": null,
   "metadata": {
    "collapsed": false
   },
   "outputs": [],
   "source": [
    "# create # [ ] flying bird character art \n",
    "\n"
   ]
  },
  {
   "cell_type": "markdown",
   "metadata": {},
   "source": [
    "<font size=\"4\" color=\"#B24C00\"  face=\"verdana\"> <B>Extra Task cont...</B></font>  \n",
    "- create the capital letter \"E\" in character art in the Code cell below"
   ]
  },
  {
   "cell_type": "code",
   "execution_count": null,
   "metadata": {
    "collapsed": false
   },
   "outputs": [],
   "source": [
    "# [ ] capital letter \"E\" character art\n",
    "\n"
   ]
  },
  {
   "cell_type": "markdown",
   "metadata": {},
   "source": [
    "[Terms of use](http://go.microsoft.com/fwlink/?LinkID=206977) &nbsp; [Privacy & cookies](https://go.microsoft.com/fwlink/?LinkId=521839) &nbsp; © 2017 Microsoft"
   ]
  }
 ],
 "metadata": {
  "anaconda-cloud": {},
  "kernelspec": {
   "display_name": "Python 3",
   "language": "python",
   "name": "python3"
  },
  "language_info": {
   "codemirror_mode": {
    "name": "ipython",
    "version": 3
   },
   "file_extension": ".py",
   "mimetype": "text/x-python",
   "name": "python",
   "nbconvert_exporter": "python",
   "pygments_lexer": "ipython3",
   "version": "3.5.2"
  }
 },
 "nbformat": 4,
 "nbformat_minor": 0
}
