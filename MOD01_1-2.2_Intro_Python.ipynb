{
 "cells": [
  {
   "cell_type": "markdown",
   "metadata": {
    "collapsed": true
   },
   "source": [
    "# 1-2.2 Intro Python\n",
    "## Strings: input, testing, formatting\n",
    "- input() - gathering user input  \n",
    "- **print() formatting**  \n",
    "- Quotes inside strings\n",
    "- Boolean string tests methods\n",
    "- String formatting methods\n",
    "- Formatting string input()\n",
    "- Boolean `in` keyword \n",
    "\n",
    "-----\n",
    "\n",
    "><font size=\"5\" color=\"#00A0B2\"  face=\"verdana\"> <B>Student will be able to</B></font>\n",
    "- gather, store and use string `input()`  \n",
    "- **format `print()` output**  \n",
    "- test string characteristics\n",
    "- format string output\n",
    "- search for a string in a string"
   ]
  },
  {
   "cell_type": "markdown",
   "metadata": {
    "collapsed": true
   },
   "source": [
    "# &nbsp;\n",
    "<font size=\"6\" color=\"#00A0B2\"  face=\"verdana\"> <B>Concepts</B></font>  \n",
    "## comma print formatting\n",
    "### print() comma separated strings \n",
    "Python provides several methods of formatting strings in the **`print()`** function beyond **string addition**   \n",
    "  \n",
    "**`print()`** provides using **commas** to combine stings for output  \n",
    "by comma separating strings  **`print()`** will output each separated by a space by default\n",
    "\n",
    "[![view video](https://iajupyterprodblobs.blob.core.windows.net/imagecontainer/common/play_video.png)]( http://edxinteractivepage.blob.core.windows.net/edxpages/f7cff1a7-5601-48a1-95a6-fd1fdfabd20e.html?details=[{\"src\":\"http://jupyternootbookwams.streaming.mediaservices.windows.net/ac97f001-e639-494e-aa15-e420efb5a7a8/Unit1_Section2-2-Print-Comma_Format.ism/manifest\",\"type\":\"application/vnd.ms-sstr+xml\"}],[{\"src\":\"http://jupyternootbookwams.streaming.mediaservices.windows.net/ac97f001-e639-494e-aa15-e420efb5a7a8/Unit1_Section2-2-Print-Comma_Format.vtt\",\"srclang\":\"en\",\"kind\":\"subtitles\",\"label\":\"english\"}])\n",
    "\n",
    "#### comma formatted `print()`\n",
    "- **[ ]** print 3 strings on the same line using commas inside the `print()` function "
   ]
  },
  {
   "cell_type": "markdown",
   "metadata": {},
   "source": [
    "# &nbsp;\n",
    "<font size=\"6\" color=\"#00A0B2\"  face=\"verdana\"> <B>Examples</B></font>"
   ]
  },
  {
   "cell_type": "code",
   "execution_count": null,
   "metadata": {
    "collapsed": false
   },
   "outputs": [],
   "source": [
    "# review and run code\n",
    "\n",
    "name = \"Collette\"\n",
    "\n",
    "# string addition \n",
    "print(\"Hello \" + name + \"!\")\n",
    "\n",
    "# comma separation formatting\n",
    "print(\"Hello to\",name,\"who is from the city\")"
   ]
  },
  {
   "cell_type": "markdown",
   "metadata": {},
   "source": [
    "# &nbsp;\n",
    "<font size=\"6\" color=\"#B24C00\"  face=\"verdana\"> <B>Task 1</B></font>  \n",
    "**print 3 strings on the same line using commas inside the print() function**"
   ]
  },
  {
   "cell_type": "code",
   "execution_count": null,
   "metadata": {
    "collapsed": false
   },
   "outputs": [],
   "source": [
    "# [ ] print 3 strings on the same line using commas inside the print() function \n",
    "\n"
   ]
  },
  {
   "cell_type": "markdown",
   "metadata": {},
   "source": [
    "# &nbsp;\n",
    "<font size=\"6\" color=\"#00A0B2\"  face=\"verdana\"> <B>Concepts</B></font>  \n",
    "## using commas in `print()` with strings and numbers together\n",
    "[![view video](https://iajupyterprodblobs.blob.core.windows.net/imagecontainer/common/play_video.png)]( http://edxinteractivepage.blob.core.windows.net/edxpages/f7cff1a7-5601-48a1-95a6-fd1fdfabd20e.html?details=[{\"src\":\"http://jupyternootbookwams.streaming.mediaservices.windows.net/46b436d7-31ed-4e9a-a4c9-55f9eaacfb84/Unit1_Section2-2-Print-String_Number.ism/manifest\",\"type\":\"application/vnd.ms-sstr+xml\"}],[{\"src\":\"http://jupyternootbookwams.streaming.mediaservices.windows.net/46b436d7-31ed-4e9a-a4c9-55f9eaacfb84/Unit1_Section2-2-Print-String_Number.vtt\",\"srclang\":\"en\",\"kind\":\"subtitles\",\"label\":\"english\"}])\n",
    "- **`print()`** function formatting with comma separation works different than with string addition.\n",
    "- **`print()`**  using comma separation can mix numbers (int & float) and strings without a TypeError\n",
    "\n",
    "#### `print()` with numbers and strings together using commas\n",
    "- **[ ]** use a **`print()`** function with comma separation to combine 2 numbers and 2 strings"
   ]
  },
  {
   "cell_type": "markdown",
   "metadata": {},
   "source": [
    "# &nbsp;\n",
    "<font size=\"6\" color=\"#00A0B2\"  face=\"verdana\"> <B>Examples</B></font>"
   ]
  },
  {
   "cell_type": "code",
   "execution_count": null,
   "metadata": {
    "collapsed": false
   },
   "outputs": [],
   "source": [
    "# review and run code\n",
    "print(\"I will pick you up @\",6,\"for the party\")"
   ]
  },
  {
   "cell_type": "code",
   "execution_count": null,
   "metadata": {
    "collapsed": false
   },
   "outputs": [],
   "source": [
    "# review and run code\n",
    "number_errors = 0\n",
    "print(\"An Integer of\", 14, \"combined with strings causes\",number_errors,\"TypeErrors in comma formatted print!\")"
   ]
  },
  {
   "cell_type": "markdown",
   "metadata": {},
   "source": [
    "# &nbsp;\n",
    "<font size=\"6\" color=\"#B24C00\"  face=\"verdana\"> <B>Task 2</B></font>  \n",
    "**use a print() function with comma separation to combine 2 numbers and 2 strings**"
   ]
  },
  {
   "cell_type": "code",
   "execution_count": null,
   "metadata": {
    "collapsed": false
   },
   "outputs": [],
   "source": [
    "# [ ] use a print() function with comma separation to combine 2 numbers and 2 strings\n",
    "\n"
   ]
  },
  {
   "cell_type": "markdown",
   "metadata": {
    "collapsed": true
   },
   "source": [
    "<font size=\"6\" color=\"#B24C00\"  face=\"verdana\"> <B>Task 3</B></font>  \n",
    "**print() comma separated mixing of strings and variables**  \n",
    "by comma separating strings and/or string variables **`print()`** will output each separated by a space by default\n",
    "  \n",
    "**display text describing an address, made from stings and variables of different types**\n",
    "- initialize variables with input()\n",
    "  - street\n",
    "  - st_number\n",
    "- Display a message about the street and street number using comma separation formatting"
   ]
  },
  {
   "cell_type": "code",
   "execution_count": null,
   "metadata": {
    "collapsed": false
   },
   "outputs": [],
   "source": [
    "# [ ] get user input for a street name in the variable, street\n",
    "\n",
    "# [ ] get user input for a street number in the variable, st_number\n",
    "\n",
    "# [ ] display a message about the street and st_number\n",
    "\n",
    "\n"
   ]
  },
  {
   "cell_type": "markdown",
   "metadata": {},
   "source": [
    "<font size=\"6\" color=\"#B24C00\"  face=\"verdana\"> <B>Task 4</B></font>  \n",
    "**`print()` number, strings, variables from input**\n",
    "- [ ] display text made from combining a variable, a literal string and a number"
   ]
  },
  {
   "cell_type": "code",
   "execution_count": null,
   "metadata": {
    "collapsed": false
   },
   "outputs": [],
   "source": [
    "# [ ] define a variable with a string or numeric value\n",
    "\n",
    "# [ ] display a message combining the variable, 1 or more literal strings and a number\n",
    "\n",
    "\n"
   ]
  },
  {
   "cell_type": "markdown",
   "metadata": {
    "collapsed": true
   },
   "source": [
    "<font size=\"6\" color=\"#B24C00\"  face=\"verdana\"> <B>Task 5</B></font>   \n",
    "## Program: How many for the training?\n",
    "Create a program that prints out a reservation for a training class.  Gather the name of the party, the number attending and the time.\n",
    ">**example** of what input/output might look like:\n",
    "```\n",
    "enter name for contact person for training group: Hiroto Yamaguchi  \n",
    "enter the total number attending the course: 7  \n",
    "enter the training time selected: 3:25 PM  \n",
    "------------------------------  \n",
    "Reminder: training is schedule at 3:25 PM for the Hiroto Yamaguchi group of 7 attendees  \n",
    "Please arrive 10 minutes early for the first class  \n",
    "```  \n",
    "  \n",
    "Design and Create your own reminder style  \n",
    "- **[ ]** get user input for variables:\n",
    "  - **owner**: name of person the reservation is for  \n",
    "  - **num_people**: how many are attending  \n",
    "  - **training_time**: class time\n",
    "- **[ ]** create an integer variable **min_early**: number of minutes early the party should arrive\n",
    "- **[ ]** using comma separation, print reminder text\n",
    "  - use all of the variables in the text\n",
    "  - use additional strings as needed\n",
    "  - use multiple print statements to format message on multiple lines (optional)"
   ]
  },
  {
   "cell_type": "code",
   "execution_count": null,
   "metadata": {
    "collapsed": false
   },
   "outputs": [],
   "source": [
    "# [ ] get input for variables: owner, num_people, training_time  - use descriptive prompt text\n",
    "owner = \n",
    "num_people = \n",
    "training_time = \n",
    "# [ ] create a integer variable min_early and \"hard code\" the integer value (e.g. - 5, 10 or 15)\n",
    "min_early = \n",
    "# [ ] print reminder text using all variables & add additional strings -  use comma separated print formatting\n",
    "\n",
    "\n"
   ]
  },
  {
   "cell_type": "markdown",
   "metadata": {},
   "source": [
    "[Terms of use](http://go.microsoft.com/fwlink/?LinkID=206977) &nbsp; [Privacy & cookies](https://go.microsoft.com/fwlink/?LinkId=521839) &nbsp; © 2017 Microsoft"
   ]
  }
 ],
 "metadata": {
  "anaconda-cloud": {},
  "kernelspec": {
   "display_name": "Python 3",
   "language": "python",
   "name": "python3"
  },
  "language_info": {
   "codemirror_mode": {
    "name": "ipython",
    "version": 3
   },
   "file_extension": ".py",
   "mimetype": "text/x-python",
   "name": "python",
   "nbconvert_exporter": "python",
   "pygments_lexer": "ipython3",
   "version": "3.5.2"
  }
 },
 "nbformat": 4,
 "nbformat_minor": 1
}
