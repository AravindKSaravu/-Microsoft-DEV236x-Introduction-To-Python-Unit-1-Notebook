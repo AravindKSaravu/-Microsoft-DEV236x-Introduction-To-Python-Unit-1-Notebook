{
 "cells": [
  {
   "cell_type": "markdown",
   "metadata": {},
   "source": [
    "# 1-3.1 Intro Python\n",
    "## Functions Arguments & Parameters\n",
    "- **Creating a simple Function with a parameter**\n",
    "- Exploring Functions with `return` values \n",
    "- Creating Functions with multiple parameters\n",
    "- Sequence in python  \n",
    "\n",
    "-----\n",
    "\n",
    "><font size=\"5\" color=\"#00A0B2\"  face=\"verdana\"> <B>Student will be able to</B></font>  \n",
    "- **create functions with a parameter**  \n",
    "- create functions with a `return` value \n",
    "- create functions with multiple parameters\n",
    "- use knowledge of sequence in coding tasks  \n",
    "- Use coding best practices "
   ]
  },
  {
   "cell_type": "markdown",
   "metadata": {},
   "source": [
    "# &nbsp;\n",
    "<font size=\"6\" color=\"#00A0B2\"  face=\"verdana\"> <B>Concept</B></font>\n",
    "## Calling Functions with Arguments\n",
    "Functions are used for code tasks that are intended to be reused \n",
    "\n",
    "[![view video](https://iajupyterprodblobs.blob.core.windows.net/imagecontainer/common/play_video.png)]( http://edxinteractivepage.blob.core.windows.net/edxpages/f7cff1a7-5601-48a1-95a6-fd1fdfabd20e.html?details=[{\"src\":\"http://jupyternootbookwams.streaming.mediaservices.windows.net/621d10f8-23d5-4571-b0fd-aa12b0de98d8/Unit1_Section3.1-function-arguments.ism/manifest\",\"type\":\"application/vnd.ms-sstr+xml\"}],[{\"src\":\"http://jupyternootbookwams.streaming.mediaservices.windows.net/621d10f8-23d5-4571-b0fd-aa12b0de98d8/Unit1_Section3.1-function-arguments.vtt\",\"srclang\":\"en\",\"kind\":\"subtitles\",\"label\":\"english\"}])\n",
    "\n",
    "Python allows us to create **User Defined Functions** and provides many **Built-in Functions** such as **`print()`**  \n",
    "- **`print()`** can be called using arguments (or without) and sends text to standard output, such as the console. \n",
    "- **`print()`** uses **Parameters** to define the variable Arguments that can be passed to the Function. \n",
    "- **`print()`** defines multiple string/numbers parameters which means we can send a long list of Arguments to **`print()`**, separated by commas.   \n",
    "- **`print()`** can also be called directly with just its name and empty parentheses and it will return a blank line to standard output"
   ]
  },
  {
   "cell_type": "markdown",
   "metadata": {},
   "source": [
    "# &nbsp;\n",
    "<font size=\"6\" color=\"#00A0B2\"  face=\"verdana\"> <B>Examples</B></font>"
   ]
  },
  {
   "cell_type": "code",
   "execution_count": null,
   "metadata": {},
   "outputs": [],
   "source": [
    "print('Hello World!', 'I am sending string arguments to print ')"
   ]
  },
  {
   "cell_type": "code",
   "execution_count": null,
   "metadata": {},
   "outputs": [],
   "source": [
    "student_age = 17\n",
    "student_name = \"Hiroto Yamaguchi\"\n",
    "print(student_name,'will be in the class for',student_age, 'year old students.')"
   ]
  },
  {
   "cell_type": "code",
   "execution_count": null,
   "metadata": {},
   "outputs": [],
   "source": [
    "print(\"line 1\")\n",
    "print(\"line 2\")\n",
    "# line 3 is an empty return - the default when no arguments\n",
    "print()\n",
    "print(\"line 4\")"
   ]
  },
  {
   "cell_type": "markdown",
   "metadata": {},
   "source": [
    "# &nbsp;\n",
    "<font size=\"6\" color=\"#B24C00\"  face=\"verdana\"> <B>Task 1</B></font>\n",
    "## Passing Arguments to &nbsp; `print()` \n",
    "### Many Arguments can be passed to print \n",
    "\n",
    "- update the print statement to use **`print()`** with **8** or more arguments"
   ]
  },
  {
   "cell_type": "code",
   "execution_count": null,
   "metadata": {},
   "outputs": [],
   "source": [
    "#[ ] increase the number of arguments used in print() to 8 or more \n",
    "student_age = 17\n",
    "student_name = \"Hiroto Yamaguchi\"\n",
    "print(student_name,'will be in the class for',student_age, 'year old students.')\n",
    "\n"
   ]
  },
  {
   "cell_type": "markdown",
   "metadata": {
    "collapsed": true
   },
   "source": [
    "# &nbsp;\n",
    "<font size=\"6\" color=\"#00A0B2\"  face=\"verdana\"> <B>Concept</B></font>\n",
    "## Create a simple Function\n",
    "Creating user defined functions is at the core of computer programming.  Functions enable code reuse and make code easier to develop and maintain.\n",
    "[![view video](https://iajupyterprodblobs.blob.core.windows.net/imagecontainer/common/play_video.png)]( http://edxinteractivepage.blob.core.windows.net/edxpages/f7cff1a7-5601-48a1-95a6-fd1fdfabd20e.html?details=[{\"src\":\"http://jupyternootbookwams.streaming.mediaservices.windows.net/35458114-6211-4d10-85bc-7c4eb7834c52/Unit1_Section3.1-Simplest_Functions.ism/manifest\",\"type\":\"application/vnd.ms-sstr+xml\"}],[{\"src\":\"http://jupyternootbookwams.streaming.mediaservices.windows.net/35458114-6211-4d10-85bc-7c4eb7834c52/Unit1_Section3.1-Simplest_Functions.vtt\",\"srclang\":\"en\",\"kind\":\"subtitles\",\"label\":\"english\"}])\n",
    "### basics of a user defined function\n",
    "- define a function with **`def`** \n",
    "- use indentation (4 spaces)\n",
    "- define parameters\n",
    "- optional parameters \n",
    "- **`return`** values (or none)\n",
    "- function scope (basics defaults)  \n"
   ]
  },
  {
   "cell_type": "markdown",
   "metadata": {},
   "source": [
    "### `def some_function():`\n",
    "use the &nbsp;**`def`** &nbsp;statement when creating a **function**  \n",
    "- use a function name that **starts with a letter** or underscore (usually a lower-case letter)\n",
    "- function names can contain **letters, numbers or underscores**\n",
    "- parenthesis &nbsp; **()**  &nbsp; follow the function name\n",
    "- a colon &nbsp; **:**  &nbsp; follows the parenthesis\n",
    "- the code for the function is indented under the function definition (use 4 spaces for this course)\n",
    "\n",
    "```python\n",
    "def some_function():\n",
    "   #code the function tasks indented here    \n",
    "```\n",
    "The **end of the function** is denoted by returning to **no indentation**"
   ]
  },
  {
   "cell_type": "markdown",
   "metadata": {},
   "source": [
    "# &nbsp;\n",
    "<font size=\"6\" color=\"#00A0B2\"  face=\"verdana\"> <B>Examples</B></font>"
   ]
  },
  {
   "cell_type": "code",
   "execution_count": null,
   "metadata": {
    "collapsed": true
   },
   "outputs": [],
   "source": [
    "# defines a function named say_hi\n",
    "def say_hi():\n",
    "    print(\"Hello there!\")\n",
    "    print(\"goodbye\")"
   ]
  },
  {
   "cell_type": "code",
   "execution_count": null,
   "metadata": {
    "collapsed": true
   },
   "outputs": [],
   "source": [
    "# define three_three \n",
    "def three_three():\n",
    "    print(33) "
   ]
  },
  {
   "cell_type": "markdown",
   "metadata": {},
   "source": [
    "# &nbsp;\n",
    "<font size=\"6\" color=\"#00A0B2\"  face=\"verdana\"> <B>Concept</B></font>\n",
    "## Call a function by name\n",
    "Call a simple function using the function name followed by parenthesis.  For instance, calling print is  \n",
    "**`print()`**"
   ]
  },
  {
   "cell_type": "markdown",
   "metadata": {},
   "source": [
    "## &nbsp;\n",
    "<font size=\"6\" color=\"#00A0B2\"  face=\"verdana\"> <B>Examples</B></font>"
   ]
  },
  {
   "cell_type": "code",
   "execution_count": null,
   "metadata": {},
   "outputs": [],
   "source": [
    "# Program defines and calls the say_hi & three_three functions\n",
    "# [ ] review and run the code\n",
    "\n",
    "def say_hi():\n",
    "    print(\"Hello there!\")\n",
    "    print(\"goodbye\")\n",
    "# end of indentation ends the function\n",
    "\n",
    "# define three_three \n",
    "def three_three():\n",
    "    print(33) \n",
    "\n",
    "# calling the functions\n",
    "say_hi()\n",
    "print()\n",
    "three_three()"
   ]
  },
  {
   "cell_type": "markdown",
   "metadata": {},
   "source": [
    "# &nbsp;\n",
    "<font size=\"6\" color=\"#B24C00\"  face=\"verdana\"> <B>Task 2</B></font>\n",
    "## Define and call a simple function &nbsp; `yell_it()` \n",
    "### `yell_it()` &nbsp; prints the phrase with \"!\" concatenated to the end\n",
    "- takes no arguments\n",
    "- indented function code does the following\n",
    "  - define a variable for called **`phrase`** and intialize with a short *phrase*\n",
    "  - prints **`phrase`** as all upper-case letters followed by \"!\"\n",
    "- call &nbsp; `yell_it` &nbsp; at the bottom of the cell after the function &nbsp;**`def`**&nbsp; (**Tip:** no indentation should be used)"
   ]
  },
  {
   "cell_type": "code",
   "execution_count": null,
   "metadata": {},
   "outputs": [],
   "source": [
    "#[ ] define (def) a simple function called yell_it() and call the function\n",
    "\n"
   ]
  },
  {
   "cell_type": "markdown",
   "metadata": {},
   "source": [
    "# &nbsp;\n",
    "<font size=\"6\" color=\"#00A0B2\"  face=\"verdana\"> <B>Concept</B></font>\n",
    "## Functions that have Parameters\n",
    "[![view video](https://iajupyterprodblobs.blob.core.windows.net/imagecontainer/common/play_video.png)]( http://edxinteractivepage.blob.core.windows.net/edxpages/f7cff1a7-5601-48a1-95a6-fd1fdfabd20e.html?details=[{\"src\":\"http://jupyternootbookwams.streaming.mediaservices.windows.net/c84008fa-2ec9-4e4b-8b6b-15b9063852a1/Unit1_Section3.1-funct-parameter.ism/manifest\",\"type\":\"application/vnd.ms-sstr+xml\"}],[{\"src\":\"http://jupyternootbookwams.streaming.mediaservices.windows.net/c84008fa-2ec9-4e4b-8b6b-15b9063852a1/Unit1_Section3.1-funct-parameter.vtt\",\"srclang\":\"en\",\"kind\":\"subtitles\",\"label\":\"english\"}])\n",
    "**`print()`** and **`type()`** are examples of built-in functions that have **Parameters** defined  \n",
    "  \n",
    "**`type()`** has a parameter for a **Python Object** and sends back the *type* of the object\n",
    "  \n",
    "an **Argument** is a value given for a parameter when calling a function  \n",
    "- **`type`** is called providing an **Argument** - in this case the string *\"Hello\"*\n",
    "```python\n",
    "type(\"Hello\")\n",
    "```  \n",
    "\n",
    "## Defining Function Parameters\n",
    "- Parameters are defined inside of the parenthesis as part of a function **`def`** statement\n",
    "- Parameters are typically copies of objects that are available for use in function code\n",
    "```python\n",
    "def say_this(phrase):  \n",
    "      print(phrase)\n",
    "```  \n",
    "\n",
    "## Function can have default Arguments\n",
    "- Default Arguments are used if no argument is supplied\n",
    "- Default arguments are assigned when creating the parameter list\n",
    "```python\n",
    "def say_this(phrase = \"Hi\"):  \n",
    "      print(phrase)\n",
    "```"
   ]
  },
  {
   "cell_type": "markdown",
   "metadata": {},
   "source": [
    "## &nbsp;\n",
    "<font size=\"6\" color=\"#00A0B2\"  face=\"verdana\"> <B>Example</B></font>"
   ]
  },
  {
   "cell_type": "code",
   "execution_count": null,
   "metadata": {},
   "outputs": [],
   "source": [
    "# yell_this() yells the string Argument provided\n",
    "def yell_this(phrase):\n",
    "    print(phrase.upper() + \"!\")\n",
    "    \n",
    "# call function with a string\n",
    "yell_this(\"It is time to save the notebook\")"
   ]
  },
  {
   "cell_type": "code",
   "execution_count": null,
   "metadata": {},
   "outputs": [],
   "source": [
    "# use a default argument\n",
    "def say_this(phrase = \"Hi\"):  \n",
    "    print(phrase)\n",
    "        \n",
    "say_this()\n",
    "say_this(\"Bye\")"
   ]
  },
  {
   "cell_type": "markdown",
   "metadata": {},
   "source": [
    "# &nbsp;\n",
    "<font size=\"6\" color=\"#B24C00\"  face=\"verdana\"> <B>Task 3</B></font>\n",
    "\n",
    "## Define `yell_this()` and call with variable argument \n",
    "- define variable &nbsp; **`words_to_yell`** &nbsp; as a string gathered from user&nbsp; `input()`\n",
    "- Call &nbsp;**`yell_this()`** &nbsp;with &nbsp; **`words_to_yell`** &nbsp;as argument\n",
    "- get user input() for the string words_to_yell"
   ]
  },
  {
   "cell_type": "code",
   "execution_count": null,
   "metadata": {},
   "outputs": [],
   "source": [
    "# [ ] define yell_this() \n",
    "\n",
    "# [ ] get user input in variable words_to_yell\n",
    "\n",
    "# [ ] call yell_this function with words_to_yell as argument\n",
    "\n"
   ]
  },
  {
   "cell_type": "markdown",
   "metadata": {},
   "source": [
    "[Terms of use](http://go.microsoft.com/fwlink/?LinkID=206977) &nbsp; [Privacy & cookies](https://go.microsoft.com/fwlink/?LinkId=521839) &nbsp; © 2017 Microsoft"
   ]
  }
 ],
 "metadata": {
  "anaconda-cloud": {},
  "kernelspec": {
   "display_name": "Python 3",
   "language": "python",
   "name": "python3"
  },
  "language_info": {
   "codemirror_mode": {
    "name": "ipython",
    "version": 3
   },
   "file_extension": ".py",
   "mimetype": "text/x-python",
   "name": "python",
   "nbconvert_exporter": "python",
   "pygments_lexer": "ipython3",
   "version": "3.5.1"
  }
 },
 "nbformat": 4,
 "nbformat_minor": 1
}
