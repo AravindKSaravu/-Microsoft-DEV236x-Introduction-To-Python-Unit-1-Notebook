{
 "cells": [
  {
   "cell_type": "markdown",
   "metadata": {},
   "source": [
    "# 1-3.2 Intro Python\n",
    "## Functions Arguments & Parameters\n",
    "- Creating a simple Function with a parameter\n",
    "- **Exploring Functions with `return` values**  \n",
    "- **Creating Functions with multiple parameters**  \n",
    "- Sequence in python  \n",
    "\n",
    "-----\n",
    "\n",
    "><font size=\"5\" color=\"#00A0B2\"  face=\"verdana\"> <B>Student will be able to</B></font>  \n",
    "- create functions with a parameter  \n",
    "- **create functions with a `return` value**\n",
    "- **create functions with multiple parameters**\n",
    "- use knowledge of sequence in coding tasks \n",
    "- Use coding best practices "
   ]
  },
  {
   "cell_type": "markdown",
   "metadata": {},
   "source": [
    "# &nbsp;\n",
    "<font size=\"6\" color=\"#00A0B2\"  face=\"verdana\"> <B>Concepts</B></font>\n",
    "## Calling a function with a return value  \n",
    "\n",
    "[![view video](https://iajupyterprodblobs.blob.core.windows.net/imagecontainer/common/play_video.png)]( http://edxinteractivepage.blob.core.windows.net/edxpages/f7cff1a7-5601-48a1-95a6-fd1fdfabd20e.html?details=[{\"src\":\"http://jupyternootbookwams.streaming.mediaservices.windows.net/db990568-d940-4ede-a063-7e40ed25c978/Unit1_Section3.2-function-return.ism/manifest\",\"type\":\"application/vnd.ms-sstr+xml\"}],[{\"src\":\"http://jupyternootbookwams.streaming.mediaservices.windows.net/db990568-d940-4ede-a063-7e40ed25c978/Unit1_Section3.2-function-return.vtt\",\"srclang\":\"en\",\"kind\":\"subtitles\",\"label\":\"english\"}])\n",
    "- **`type()`** returns an object type\n",
    "-  **`type()`** can be called with a float the return value can be stored in a variable\n",
    "```python\n",
    "object_type = type(2.33)\n",
    "```  \n",
    "\n",
    "## creating a function with a return value  \n",
    "- **`return`** keyword in a function *returns* a value after *exiting* the function  \n",
    "\n",
    "```python\n",
    "def msg_double(phrase):\n",
    "      double = phrase + \" \" + phrase\n",
    "      return double\n",
    "```  \n"
   ]
  },
  {
   "cell_type": "markdown",
   "metadata": {},
   "source": [
    "## &nbsp;\n",
    "<font size=\"6\" color=\"#00A0B2\"  face=\"verdana\"> <B>Example</B></font>  \n",
    "  \n",
    "review and run the code"
   ]
  },
  {
   "cell_type": "code",
   "execution_count": null,
   "metadata": {
    "collapsed": false
   },
   "outputs": [],
   "source": [
    "# Message double returns the string Argument doubled\n",
    "def msg_double(phrase):\n",
    "      double = phrase + \" \" + phrase\n",
    "      return double\n",
    "\n",
    "# save return value in variable\n",
    "msg_2x = msg_double(\"let's go\")\n",
    "print(msg_2x)"
   ]
  },
  {
   "cell_type": "code",
   "execution_count": null,
   "metadata": {
    "collapsed": false
   },
   "outputs": [],
   "source": [
    "# example of functions with return values used in functions\n",
    "def msg_double(phrase):\n",
    "      double = phrase + \" \" + phrase\n",
    "      return double\n",
    "\n",
    "# prints the returned object\n",
    "print(msg_double(\"Save Now!\"))\n",
    "\n",
    "# echo the type of the returned object\n",
    "type(msg_double(\"Save Now!\"))"
   ]
  },
  {
   "cell_type": "markdown",
   "metadata": {},
   "source": [
    "# &nbsp;\n",
    "<font size=\"6\" color=\"#B24C00\"  face=\"verdana\"> <B>Task 1</B></font>\n",
    "\n",
    "## Doctor: a function that adds the \"Doctor\" title to a name\n",
    "- Define function `make_doctor()`&nbsp; that takes a parameter `name`\n",
    "- get user **input** for variable **`full_name`**\n",
    "- call the function using `full_name` &nbsp; as argument\n",
    "- print the return value"
   ]
  },
  {
   "cell_type": "code",
   "execution_count": null,
   "metadata": {
    "collapsed": false
   },
   "outputs": [],
   "source": [
    "# create and call make_doctor() with full_name argument from user input - then print the return value\n",
    "\n"
   ]
  },
  {
   "cell_type": "markdown",
   "metadata": {
    "collapsed": true
   },
   "source": [
    "# &nbsp;\n",
    "<font size=\"6\" color=\"#00A0B2\"  face=\"verdana\"> <B>Concepts</B></font>\n",
    "## Functions with multiple parameters\n",
    "Functions can have multiple parameters separated by commas\n",
    "\n",
    "[![view video](https://iajupyterprodblobs.blob.core.windows.net/imagecontainer/common/play_video.png)]( http://edxinteractivepage.blob.core.windows.net/edxpages/f7cff1a7-5601-48a1-95a6-fd1fdfabd20e.html?details=[{\"src\":\"http://jupyternootbookwams.streaming.mediaservices.windows.net/d82c3856-61ff-4fa3-9a20-df8f6ea4dd7a/Unit1_Section3.2-MultiParam_Function.ism/manifest\",\"type\":\"application/vnd.ms-sstr+xml\"}],[{\"src\":\"http://jupyternootbookwams.streaming.mediaservices.windows.net/d82c3856-61ff-4fa3-9a20-df8f6ea4dd7a/Unit1_Section3.2-MultiParam_Function.vtt\",\"srclang\":\"en\",\"kind\":\"subtitles\",\"label\":\"english\"}])"
   ]
  },
  {
   "cell_type": "markdown",
   "metadata": {
    "collapsed": true
   },
   "source": [
    "## &nbsp;\n",
    "<font size=\"6\" color=\"#00A0B2\"  face=\"verdana\"> <B>Example</B></font>  \n",
    "  \n",
    "review and run the code"
   ]
  },
  {
   "cell_type": "code",
   "execution_count": null,
   "metadata": {
    "collapsed": false
   },
   "outputs": [],
   "source": [
    "def make_schedule(period1, period2):\n",
    "    schedule = (\"[1st] \" + period1.title() + \", [2nd] \" + period2.title())\n",
    "    return schedule\n",
    "\n",
    "student_schedule = make_schedule(\"mathematics\", \"history\")\n",
    "print(\"SCHEDULE:\", student_schedule)"
   ]
  },
  {
   "cell_type": "markdown",
   "metadata": {
    "collapsed": true
   },
   "source": [
    "# &nbsp;\n",
    "<font size=\"6\" color=\"#B24C00\"  face=\"verdana\"> <B>Task 2</B></font>\n",
    "\n",
    "## Define `make_schedule()` adding a 3rd period to &nbsp; \n",
    "- Start with the above example code\n",
    "- add a parameter period_3\n",
    "- update function code to add period_3 to the schedule\n",
    "- call **`student_schedule()`** with an additional argument such as 'science'\n",
    "- print the schedule"
   ]
  },
  {
   "cell_type": "code",
   "execution_count": null,
   "metadata": {
    "collapsed": false
   },
   "outputs": [],
   "source": [
    "# [ ] add a 3rd period parameter to make_schedule\n",
    "# [ ] Optional - print a schedule for 6 classes (Tip: perhaps let the function make this easy)\n",
    "\n"
   ]
  },
  {
   "cell_type": "markdown",
   "metadata": {},
   "source": [
    "[Terms of use](http://go.microsoft.com/fwlink/?LinkID=206977) &nbsp; [Privacy & cookies](https://go.microsoft.com/fwlink/?LinkId=521839) &nbsp; © 2017 Microsoft"
   ]
  }
 ],
 "metadata": {
  "anaconda-cloud": {},
  "kernelspec": {
   "display_name": "Python 3",
   "language": "python",
   "name": "python3"
  },
  "language_info": {
   "codemirror_mode": {
    "name": "ipython",
    "version": 3
   },
   "file_extension": ".py",
   "mimetype": "text/x-python",
   "name": "python",
   "nbconvert_exporter": "python",
   "pygments_lexer": "ipython3",
   "version": "3.5.1"
  }
 },
 "nbformat": 4,
 "nbformat_minor": 1
}
