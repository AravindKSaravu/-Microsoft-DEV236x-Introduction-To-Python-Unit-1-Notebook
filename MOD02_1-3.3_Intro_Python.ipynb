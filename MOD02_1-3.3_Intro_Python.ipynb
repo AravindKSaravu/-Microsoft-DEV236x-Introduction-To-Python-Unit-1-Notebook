{
 "cells": [
  {
   "cell_type": "markdown",
   "metadata": {},
   "source": [
    "# 1-3.3 Intro Python\n",
    "## Functions Arguments & Parameters\n",
    "- Creating a simple Function with parameters\n",
    "- Exploring Functions with `return` values \n",
    "- Creating Functions with multiple parameters\n",
    "- **Sequence in python**  \n",
    "\n",
    "-----\n",
    "\n",
    "><font size=\"5\" color=\"#00A0B2\"  face=\"verdana\"> <B>Student will be able to</B></font>  \n",
    "- create functions with a parameter  \n",
    "- create functions with a `return` value \n",
    "- create functions with multiple parameters\n",
    "- **use knowledge of sequence in coding tasks**  \n",
    "- **Use coding best practices** "
   ]
  },
  {
   "cell_type": "markdown",
   "metadata": {},
   "source": [
    "# &nbsp;\n",
    "<font size=\"6\" color=\"#00A0B2\"  face=\"verdana\"> <B>Concept</B></font>\n",
    "## Sequence\n",
    "In programming, **sequence** refers to the order that code is processed.  Objects in Python, such as variables and functions, are not available until they have been processed. \n",
    "\n",
    "Processing sequence flows from the top of a page of code to the bottom. This often means that **Function definitions are placed at the beginning of a page of code.**\n",
    "\n",
    "[![view video](https://iajupyterprodblobs.blob.core.windows.net/imagecontainer/common/play_video.png)]( http://edxinteractivepage.blob.core.windows.net/edxpages/f7cff1a7-5601-48a1-95a6-fd1fdfabd20e.html?details=[{\"src\":\"http://jupyternootbookwams.streaming.mediaservices.windows.net/29ebdee3-33e8-487f-9c73-621219e5e6d2/Unit1_Section3.3-Object_Sequence.ism/manifest\",\"type\":\"application/vnd.ms-sstr+xml\"}],[{\"src\":\"http://jupyternootbookwams.streaming.mediaservices.windows.net/29ebdee3-33e8-487f-9c73-621219e5e6d2/Unit1_Section3.3-Object_Sequence.vtt\",\"srclang\":\"en\",\"kind\":\"subtitles\",\"label\":\"english\"}])\n",
    "\n",
    "In the sample below, the function **`hat_color`** cannot be accessed since it is initialized after it is called at the bottom of the code.  \n",
    "```python\n",
    "have_hat = hat_available('green')  \n",
    "  \n",
    "print('hat available is', have_hat)\n",
    "\n",
    "def hat_available(color):\n",
    "    hat_colors = 'black, red, blue, green, white, grey, brown, pink'\n",
    "    return(color.lower() in hat_colors)\n",
    "```  \n",
    "This results in an error - the code flows from top to bottom is in the incorrect **sequence** \n",
    "```python\n",
    "NameError: name 'hat_available' is not defined\n",
    "```\n",
    "In the statement &nbsp; **`have_hat = hat_available('green')`** &nbsp; the function &nbsp; **`hat_available()`** &nbsp; needs to be called after the function has been defined\n",
    "> **Note:** an argument or variable is said to be **hard coded** when assigned a literal or constant value.  \n",
    "    It is a good habit to avoid creating hard coded values in functions, such as  \n",
    "    `hat_colors = 'black, red, blue, green, white, grey, brown, pink'`"
   ]
  },
  {
   "cell_type": "markdown",
   "metadata": {},
   "source": [
    "## &nbsp;\n",
    "<font size=\"6\" color=\"#00A0B2\"  face=\"verdana\"> <B>Examples</B></font>"
   ]
  },
  {
   "cell_type": "code",
   "execution_count": null,
   "metadata": {},
   "outputs": [],
   "source": [
    "# review and run code - note: fix error in the following \"tasks\" section\n",
    "have_hat = hat_available('green')  \n",
    "  \n",
    "print('hat available is', have_hat)\n",
    "\n",
    "def hat_available(color):\n",
    "    hat_colors = 'black, red, blue, green, white, grey, brown, pink'\n",
    "    # return Boolean\n",
    "    return(color.lower() in hat_colors)"
   ]
  },
  {
   "cell_type": "markdown",
   "metadata": {},
   "source": [
    "# &nbsp;\n",
    "<font size=\"6\" color=\"#B24C00\"  face=\"verdana\"> <B>Task 1</B></font>\n",
    "## Change the Sequence to fix the `NameError`\n",
    "- [ ] fix the code **sequence** so the &nbsp;**`hat_available()`** &nbsp;function is availabe when called and the code runs without error"
   ]
  },
  {
   "cell_type": "code",
   "execution_count": null,
   "metadata": {},
   "outputs": [],
   "source": [
    "# [ ] fix the sequence of the code to remove the NameError\n",
    "\n",
    "have_hat = hat_available('green')  \n",
    "  \n",
    "print('hat available is', have_hat)\n",
    "\n",
    "def hat_available(color):\n",
    "    hat_colors = 'black, red, blue, green, white, grey, brown, pink'\n",
    "    return(color.lower() in hat_colors)\n",
    "\n"
   ]
  },
  {
   "cell_type": "markdown",
   "metadata": {},
   "source": [
    "# &nbsp;\n",
    "<font size=\"6\" color=\"#00A0B2\"  face=\"verdana\"> <B>Concepts</B></font>\n",
    "## Programming Style Tip: Avoid Hard-Coding\n",
    "### \"Hard-coding\" is placing data values directly into code\n",
    "An example of hard-coding from above is **`have_hat = hat_available('green')`**  where the argument `'green'` is hard-coded\n",
    "\n",
    "A programming best practice is to **avoid hard-coding values when possible**\n",
    "- Use varibles and verse hard-coded \n",
    "- Often preferable to use input such as a configuration file (advanced topic) or user input.\n",
    "These practices allow changing the data without disturbing the main code and makes code more reusable.\n"
   ]
  },
  {
   "cell_type": "markdown",
   "metadata": {},
   "source": [
    "# &nbsp;\n",
    "<font size=\"6\" color=\"#B24C00\"  face=\"verdana\"> <B>Task 2</B></font>\n",
    "## Program: bird_available\n",
    "The program should ask for user to \"input a bird name to check for availability\" and print a statement informing of availability\n",
    "[![view video](https://iajupyterprodblobs.blob.core.windows.net/imagecontainer/common/play_video.png)]( http://edxinteractivepage.blob.core.windows.net/edxpages/f7cff1a7-5601-48a1-95a6-fd1fdfabd20e.html?details=[{\"src\":\"http://jupyternootbookwams.streaming.mediaservices.windows.net/767e4db3-7909-4829-99db-fd6750ea5d54/Unit1_Section3.3-Bird_Available.ism/manifest\",\"type\":\"application/vnd.ms-sstr+xml\"}],[{\"src\":\"http://jupyternootbookwams.streaming.mediaservices.windows.net/767e4db3-7909-4829-99db-fd6750ea5d54/Unit1_Section3.3-Bird_Available.vtt\",\"srclang\":\"en\",\"kind\":\"subtitles\",\"label\":\"english\"}])\n",
    "### create this program with a Boolean function `bird_available()`\n",
    "- has parameter that takes the name of a type of bird\n",
    "- for this exercise the variable `bird_types = 'crow robin parrot eagle sandpiper hawk piegon'`\n",
    "- return `True` or `False` (we are making a Boolean function)\n",
    "- call the function using the name of a bird type from user input\n",
    "- print a sentence that indicates the availablity of the type of bird checked\n"
   ]
  },
  {
   "cell_type": "code",
   "execution_count": null,
   "metadata": {},
   "outputs": [],
   "source": [
    "# [ ] create function bird_available\n",
    "\n",
    "# [ ] user input\n",
    "\n",
    "# [ ] call bird_available\n",
    "\n",
    "# [ ] print availbility status\n",
    "\n"
   ]
  },
  {
   "cell_type": "markdown",
   "metadata": {
    "collapsed": true
   },
   "source": [
    "# &nbsp;\n",
    "<font size=\"6\" color=\"#B24C00\"  face=\"verdana\"> <B>Task 3</B></font>\n",
    "## Fix The Error\n"
   ]
  },
  {
   "cell_type": "code",
   "execution_count": null,
   "metadata": {},
   "outputs": [],
   "source": [
    "# define function how_many\n",
    "how_many():\n",
    "    requested = input(\"enter how many you want: \")\n",
    "    return requested\n",
    "\n",
    "# get the number_needed\n",
    "number_needed = how_many()\n",
    "print(number_needed, \"will be ordered\")\n",
    "\n"
   ]
  },
  {
   "cell_type": "markdown",
   "metadata": {
    "collapsed": true
   },
   "source": [
    "[Terms of use](http://go.microsoft.com/fwlink/?LinkID=206977) &nbsp; [Privacy & cookies](https://go.microsoft.com/fwlink/?LinkId=521839) &nbsp; © 2017 Microsoft"
   ]
  }
 ],
 "metadata": {
  "anaconda-cloud": {},
  "kernelspec": {
   "display_name": "Python 3",
   "language": "python",
   "name": "python3"
  },
  "language_info": {
   "codemirror_mode": {
    "name": "ipython",
    "version": 3
   },
   "file_extension": ".py",
   "mimetype": "text/x-python",
   "name": "python",
   "nbconvert_exporter": "python",
   "pygments_lexer": "ipython3",
   "version": "3.5.1"
  }
 },
 "nbformat": 4,
 "nbformat_minor": 1
}
