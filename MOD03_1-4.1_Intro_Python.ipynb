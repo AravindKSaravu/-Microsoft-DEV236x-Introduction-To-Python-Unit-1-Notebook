{
  "cells": [
    {
      "metadata": {},
      "cell_type": "markdown",
      "source": "# 1-4.1 Intro Python\n## Conditionals \n- **`if`, `else`, `pass`**\n  - **Conditionals using Boolean String Methods**\n  - Comparison operators\n  - String comparisons\n\n----- \n\n><font size=\"5\" color=\"#00A0B2\"  face=\"verdana\"> <B>Student will be able to</B></font>  \n- **control code flow with `if`... `else` conditional logic**  \n  - **using Boolean string methods (`.isupper(), .isalpha(), startswith()...`)**  \n  - using comparison (`>, <, >=, <=, ==, !=`)  \n  - using Strings in comparisons  "
    },
    {
      "metadata": {},
      "cell_type": "markdown",
      "source": "# &nbsp;\n<font size=\"6\" color=\"#00A0B2\"  face=\"verdana\"> <B>Concepts</B></font>\n## Conditionals use `True` or `False`\n - **`if`**\n - **`else`**\n   - **`pass`**  \n   \n[![view video](https://iajupyterprodblobs.blob.core.windows.net/imagecontainer/common/play_video.png)]( http://edxinteractivepage.blob.core.windows.net/edxpages/f7cff1a7-5601-48a1-95a6-fd1fdfabd20e.html?details=[{\"src\":\"http://jupyternootbookwams.streaming.mediaservices.windows.net/c53fdb30-b2b0-4183-9686-64b0e5b46dd2/Unit1_Section4.1-Conditionals.ism/manifest\",\"type\":\"application/vnd.ms-sstr+xml\"}],[{\"src\":\"http://jupyternootbookwams.streaming.mediaservices.windows.net/c53fdb30-b2b0-4183-9686-64b0e5b46dd2/Unit1_Section4.1-Conditonals.vtt\",\"srclang\":\"en\",\"kind\":\"subtitles\",\"label\":\"english\"}])"
    },
    {
      "metadata": {},
      "cell_type": "markdown",
      "source": "# &nbsp;\n<font size=\"6\" color=\"#00A0B2\"  face=\"verdana\"> <B>Examples</B></font>"
    },
    {
      "metadata": {
        "trusted": false
      },
      "cell_type": "code",
      "source": "if True:\n    print(\"True means do something\")\nelse:\n    print(\"Not True means do something else\")",
      "execution_count": null,
      "outputs": []
    },
    {
      "metadata": {
        "trusted": true
      },
      "cell_type": "code",
      "source": "hot_tea = True\n\nif hot_tea:\n    print(\"enjoy some hot tea!\")\nelse:\n    print(\"enjoy some tea, and perhaps try hot tea next time.\")",
      "execution_count": 3,
      "outputs": [
        {
          "output_type": "stream",
          "text": "enjoy some hot tea!\n",
          "name": "stdout"
        }
      ]
    },
    {
      "metadata": {
        "trusted": true
      },
      "cell_type": "code",
      "source": "someone_i_know = False \nif someone_i_know:\n    print(\"how have you been?\")\nelse:\n    # use pass if there is no need to execute code \n    pass",
      "execution_count": 4,
      "outputs": [
        {
          "output_type": "stream",
          "text": "how have you been?\n",
          "name": "stdout"
        }
      ]
    },
    {
      "metadata": {
        "trusted": false
      },
      "cell_type": "code",
      "source": "# changed the value of someone_i_know\nsomeone_i_know = True\nif someone_i_know:\n    print(\"how have you been?\")\nelse:\n    pass",
      "execution_count": null,
      "outputs": []
    },
    {
      "metadata": {
        "collapsed": true
      },
      "cell_type": "markdown",
      "source": "# &nbsp;\n<font size=\"6\" color=\"#B24C00\"  face=\"verdana\"> <B>Task 1</B></font>\n\n## Conditionals\n### Using Boolean with &nbsp; `if, else`\n\n- **Give a weather report using `if, else`**"
    },
    {
      "metadata": {
        "trusted": true
      },
      "cell_type": "code",
      "source": "sunny_today = True\n# [ ] test if it is sunny_today and give proper responses using if and else\nif sunny_today:\n    print(\"Its too hot to go outside today!:-)\")\nelse:\n    print(\"It isint sunny today!\")\n\n",
      "execution_count": 5,
      "outputs": [
        {
          "output_type": "stream",
          "text": "Its too hot to go outside today!:-)\n",
          "name": "stdout"
        }
      ]
    },
    {
      "metadata": {
        "trusted": true
      },
      "cell_type": "code",
      "source": "sunny_today = False\n# [ ] use code you created above and test sunny_today = False\nif sunny_today:\n    print(\"Its too hot to go outside today!:-)\")\nelse:\n    print(\"It is not sunny today!\")\n\n",
      "execution_count": 6,
      "outputs": [
        {
          "output_type": "stream",
          "text": "It isint sunny today!\n",
          "name": "stdout"
        }
      ]
    },
    {
      "metadata": {},
      "cell_type": "markdown",
      "source": "# &nbsp;\n<font size=\"6\" color=\"#00A0B2\"  face=\"verdana\"> <B>Concepts</B></font>\n## Conditionals: Boolean String test methods  with `if`\n[![view video](https://iajupyterprodblobs.blob.core.windows.net/imagecontainer/common/play_video.png)]( http://edxinteractivepage.blob.core.windows.net/edxpages/f7cff1a7-5601-48a1-95a6-fd1fdfabd20e.html?details=[{\"src\":\"http://jupyternootbookwams.streaming.mediaservices.windows.net/caa56256-733a-4172-96f7-9ecfc12d49d0/Unit1_Section4.1-conditionals-bool.ism/manifest\",\"type\":\"application/vnd.ms-sstr+xml\"}],[{\"src\":\"http://jupyternootbookwams.streaming.mediaservices.windows.net/caa56256-733a-4172-96f7-9ecfc12d49d0/Unit1_Section4.1-conditonals-bool.vtt\",\"srclang\":\"en\",\"kind\":\"subtitles\",\"label\":\"english\"}])\n```python\nif student_name.isalpha():\n```  \n- **`.isalnum()`**\n- **`.istitle()`**\n- **`.isdigit()`**\n- **`.islower()`**\n- **`.startswith()`**\n"
    },
    {
      "metadata": {},
      "cell_type": "markdown",
      "source": "### &nbsp;\n<font size=\"6\" color=\"#00A0B2\"  face=\"verdana\"> <B>Examples</B></font>"
    },
    {
      "metadata": {
        "trusted": true
      },
      "cell_type": "code",
      "source": "# review code and run cell\nfavorite_book = input(\"Enter the title of a favorite book: \")\n\nif favorite_book.istitle():\n    print(favorite_book, \"- nice capitalization in that title!\")\nelse:\n    print(favorite_book, \"- consider capitalization throughout for book titles.\")",
      "execution_count": 7,
      "outputs": [
        {
          "output_type": "stream",
          "name": "stdout",
          "text": "Enter the title of a favorite book: The Program\nThe Program - nice capitalization in that title!\n"
        }
      ]
    },
    {
      "metadata": {
        "trusted": true
      },
      "cell_type": "code",
      "source": "# review code and run cell\na_number = input(\"enter a positive integer number: \")\n\nif a_number.isdigit():\n    print(a_number, \"is a positive integer\")\nelse:\n    print(a_number, \"is not a positive integer\")\n    \n# another if\nif a_number.isalpha():\n    print(a_number, \"is more like a word\")\nelse:\n    pass",
      "execution_count": 9,
      "outputs": [
        {
          "output_type": "stream",
          "name": "stdout",
          "text": "enter a positive integer number: a\na is not a positive integer\na is more like a word\n"
        }
      ]
    },
    {
      "metadata": {
        "trusted": true
      },
      "cell_type": "code",
      "source": "# review code and run cell\nvehicle_type = input('\"enter a type of vehicle that starts with \"P\": ')\n\nif vehicle_type.upper().startswith(\"P\"):\n    print(vehicle_type, 'starts with \"P\"')\nelse:\n    print(vehicle_type, 'does not start with \"P\"')",
      "execution_count": 10,
      "outputs": [
        {
          "output_type": "stream",
          "name": "stdout",
          "text": "\"enter a type of vehicle that starts with \"P\": Plunto\nPlunto starts with \"P\"\n"
        }
      ]
    },
    {
      "metadata": {
        "collapsed": true
      },
      "cell_type": "markdown",
      "source": "# &nbsp;\n<font size=\"6\" color=\"#B24C00\"  face=\"verdana\"> <B>Task 2: multi-part</B></font>\n\n## Evaluating Boolean Conditionals \n### create evaluations for `.islower()`\n- print output describing **if** each of the 2 strings is all lower or not\n"
    },
    {
      "metadata": {
        "trusted": true
      },
      "cell_type": "code",
      "source": "test_string_1 = \"welcome\"\ntest_string_2 = \"I have $3\"\n# [ ] use if, else to test for islower() for the 2 strings\nif test_string_1.islower():\n    print(\"Welcome to the Pizza's Corner\")\nelse:\n    pass\nif test_string_2.islower():\n    print(\"I have $3\")\nelse:\n    print(\"You have no money left!\")\n\n\n",
      "execution_count": 12,
      "outputs": [
        {
          "output_type": "stream",
          "text": "Welcome to the Pizza's Corner\nYou have no money left!\n",
          "name": "stdout"
        }
      ]
    },
    {
      "metadata": {},
      "cell_type": "markdown",
      "source": "<font size=\"3\" color=\"#B24C00\"  face=\"verdana\"> <B>Task 2 continued.. </B></font>\n### create a functions  using `startswith('w')`\n- w_start_test() tests if starts with \"w\"  \n**function should have a parameter for `test_string` and print the test result**"
    },
    {
      "metadata": {
        "trusted": true
      },
      "cell_type": "code",
      "source": "test_string_1='welcome'.lower()\ntest_string_2='I have $3'.lower()\ntest_string_3='With a function it\\ efficient to repeat code'.lower()\n\ndef w_start_test():\n    if test_string_1.startswith('w'):\n        print(test_string_1,'starts with \"w\"')\n    else:\n        print(test_string_2,'does not start with \"w\"')\n\n    if test_string_2.startswith('w'):\n        print(test_string_2,'starts with \"w\"')\n    else:\n        print(test_string_2,'does not starts with \"w\"')\n\n    if test_string_3.startswith('w'):\n        print(test_string_3,'starts with \"w\"')\n    else:\n        print(test_string_3,'does not start with \"w\"')\n\nprint(w_start_test())\n\n",
      "execution_count": 24,
      "outputs": [
        {
          "output_type": "stream",
          "text": "welcome starts with \"w\"\ni have $3 does not starts with \"w\"\nwith a function it\\ efficient to repeat code starts with \"w\"\nNone\n",
          "name": "stdout"
        }
      ]
    },
    {
      "metadata": {},
      "cell_type": "markdown",
      "source": "[Terms of use](http://go.microsoft.com/fwlink/?LinkID=206977) &nbsp; [Privacy & cookies](https://go.microsoft.com/fwlink/?LinkId=521839) &nbsp; © 2017 Microsoft"
    }
  ],
  "metadata": {
    "anaconda-cloud": {},
    "kernelspec": {
      "name": "python3",
      "display_name": "Python 3",
      "language": "python"
    },
    "language_info": {
      "mimetype": "text/x-python",
      "nbconvert_exporter": "python",
      "name": "python",
      "pygments_lexer": "ipython3",
      "version": "3.5.4",
      "file_extension": ".py",
      "codemirror_mode": {
        "version": 3,
        "name": "ipython"
      }
    }
  },
  "nbformat": 4,
  "nbformat_minor": 1
}