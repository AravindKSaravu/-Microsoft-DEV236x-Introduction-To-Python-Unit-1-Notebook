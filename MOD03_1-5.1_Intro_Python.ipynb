{
  "cells": [
    {
      "metadata": {},
      "cell_type": "markdown",
      "source": "# 1-5.1 Python Intro  \n## conditionals, type, and mathematics extended  \n- **conditionals: `elif`**\n- **casting**  \n- basic math operators  \n\n-----\n\n><font size=\"5\" color=\"#00A0B2\"  face=\"verdana\"> <B>Student will be able to</B></font>  \n- **code more than two choices using `elif`** \n- **gather numeric input using type casting**  \n- perform subtraction, multiplication and division operations in code \n"
    },
    {
      "metadata": {},
      "cell_type": "markdown",
      "source": "# &nbsp;\n<font size=\"6\" color=\"#00A0B2\"  face=\"verdana\"> <B>Concepts</B></font>\n## conditional `elif`\n\n[![view video](https://iajupyterprodblobs.blob.core.windows.net/imagecontainer/common/play_video.png)]( http://edxinteractivepage.blob.core.windows.net/edxpages/f7cff1a7-5601-48a1-95a6-fd1fdfabd20e.html?details=[{\"src\":\"http://jupyternootbookwams.streaming.mediaservices.windows.net/a2ac5f4b-0400-4a60-91d5-d350c3cc0515/Unit1_Section5.1-elif.ism/manifest\",\"type\":\"application/vnd.ms-sstr+xml\"}],[{\"src\":\"http://jupyternootbookwams.streaming.mediaservices.windows.net/a2ac5f4b-0400-4a60-91d5-d350c3cc0515/Unit1_Section5.1-elif.vtt\",\"srclang\":\"en\",\"kind\":\"subtitles\",\"label\":\"english\"}])\n### a little review  \n- **`if`** means \"**if** a condition exists then do some task.\" **`if`** is usually followed by **`else`**  \n- **`else`** means \"**or else** after we have tested **if**, then do an alternative task\"  \n\nWhen there  is a need to test for multiple conditions there is&nbsp; **`elif`**\n- **`elif`**&nbsp; statement follows &nbsp;**`if`**, and means **\"else, if \"** another condition exists do something else\n- **`elif`**&nbsp; can be used many times\n- **`else`**&nbsp; is used after the last test condition (**`if`** or **`elif`**)\n\n#### in psuedo code  \n**If** it is raining bring an umbrella  \nor **Else If** &nbsp;(`elif`) it is snowing bring a warm coat  \nor **Else** go as usual  \n\nLike **`else`**, the **`elif`** only executes when the previous conditional is False"
    },
    {
      "metadata": {
        "collapsed": true
      },
      "cell_type": "markdown",
      "source": "# &nbsp;\n<font size=\"6\" color=\"#00A0B2\"  face=\"verdana\"> <B>Examples</B></font>"
    },
    {
      "metadata": {
        "trusted": true
      },
      "cell_type": "code",
      "source": "# [ ] review the code then run testing different inputs\n# WHAT TO WEAR\nweather = input(\"Enter weather (sunny, rainy, snowy): \") \n\nif weather.lower() == \"sunny\":\n    print(\"Wear a t-shirt\")\nelif weather.lower() == \"rainy\":\n    print(\"Bring an umbrella and boots\")\nelif weather.lower() == \"snowy\":\n    print(\"Wear a warm coat and hat\")\nelse:\n    print(\"Sorry, not sure what to suggest for\", weather)",
      "execution_count": 1,
      "outputs": [
        {
          "output_type": "stream",
          "name": "stdout",
          "text": "Enter weather (sunny, rainy, snowy): a\nSorry, not sure what to suggest for a\n"
        }
      ]
    },
    {
      "metadata": {
        "trusted": true
      },
      "cell_type": "code",
      "source": "# [ ] review the code then run testing different inputs\n# SECRET NUMBER GUESS\nsecret_num = \"2\"\n\nguess = input(\"Enter a guess for the secret number (1-3): \")\n\nif guess.isdigit() == False:\n    print(\"Invalid: guess should only use digits\")\nelif guess == \"1\":\n    print(\"Guess is too low\")\nelif guess == secret_num:\n    print(\"Guess is right\")\nelif guess == \"3\":\n    print(\"Guess is too high\")\nelse:\n    print(guess, \"is not a valid guess (1-3)\")",
      "execution_count": 2,
      "outputs": [
        {
          "output_type": "stream",
          "name": "stdout",
          "text": "Enter a guess for the secret number (1-3): 3\nGuess is too high\n"
        }
      ]
    },
    {
      "metadata": {},
      "cell_type": "markdown",
      "source": "# &nbsp;\n<font size=\"6\" color=\"#B24C00\"  face=\"verdana\"> <B>Task 1</B></font>\n\n## Program: Shirt Sale\n### Complete program using &nbsp; `if, elif, else`\n- Get user input for variable size (S, M, L)\n- reply with each shirt size and price (Small = \\$ 6, Medium = \\$ 7, Large = \\$ 8)\n- if the reply is other than S, M, L, give a message for not available\n- *optional*: add additional sizes"
    },
    {
      "metadata": {
        "trusted": true
      },
      "cell_type": "code",
      "source": "# [ ] code and test SHIRT SALE\nvariable_size=input(\"What is your size(S,M,L,XL)?:\")\nif variable_size==\"S\":\n    print(\"The price of the shirt is $6\")\nelif variable_size==\"M\":\n    print(\"The price of the shirt is $7\")\nelif variable_size==\"L\":\n    print(\"The price of the shirt is $8\")\nelif variable_size.isalpha()== False:\n    print(\"You have not given a valid size!\")\nelse:\n    print(\"We have no shirts available for your size!Sorry\")\n\n",
      "execution_count": 8,
      "outputs": [
        {
          "output_type": "stream",
          "name": "stdout",
          "text": "What is your size(S,M,L,XL)?:Xs\nWe have no shirts available for your size!Sorry\n"
        }
      ]
    },
    {
      "metadata": {},
      "cell_type": "markdown",
      "source": "# &nbsp;\n<font size=\"6\" color=\"#00A0B2\"  face=\"verdana\"> <B>Example</B></font>"
    },
    {
      "metadata": {
        "trusted": false
      },
      "cell_type": "code",
      "source": "weight1 = '60' # a string\nweight2 = 170 # an integer\n# add 2 integers\ntotal_weight = int(weight1) + weight2\nprint(total_weight)",
      "execution_count": null,
      "outputs": []
    },
    {
      "metadata": {},
      "cell_type": "markdown",
      "source": "# &nbsp;\n<font size=\"6\" color=\"#B24C00\"  face=\"verdana\"> <B>Task 2</B></font>\n## casting with `int()` & `str()`"
    },
    {
      "metadata": {
        "trusted": true
      },
      "cell_type": "code",
      "source": "str_num_1 = \"11\"\nstr_num_2 = \"15\"\nint_num_3 = 10\n# [ ] Add the 3 numbers as integers and print the result\ntotal_result=int(str_num_1)+int(str_num_2)+int_num_3\nprint(total_result)\n",
      "execution_count": 10,
      "outputs": [
        {
          "output_type": "stream",
          "text": "36\n",
          "name": "stdout"
        }
      ]
    },
    {
      "metadata": {
        "trusted": true
      },
      "cell_type": "code",
      "source": "str_num_1 = \"11\"\nstr_num_2 = \"15\"\nint_num_3 = 10\n# [ ] Add the 3 numbers as test strings and print the result\n\ntotal_result=str_num_1 + str_num_2 + str(int_num_3)\nprint(total_result)",
      "execution_count": 12,
      "outputs": [
        {
          "output_type": "error",
          "ename": "SyntaxError",
          "evalue": "invalid syntax (<ipython-input-12-aee3cbffe7b0>, line 6)",
          "traceback": [
            "\u001b[0;36m  File \u001b[0;32m\"<ipython-input-12-aee3cbffe7b0>\"\u001b[0;36m, line \u001b[0;32m6\u001b[0m\n\u001b[0;31m    total_result=str_num_1 \"+\" str_num_2 \"+\" str(int_num_3)\u001b[0m\n\u001b[0m                             ^\u001b[0m\n\u001b[0;31mSyntaxError\u001b[0m\u001b[0;31m:\u001b[0m invalid syntax\n"
          ]
        }
      ]
    },
    {
      "metadata": {},
      "cell_type": "markdown",
      "source": "<font size=\"4\" color=\"#B24C00\"  face=\"verdana\"> <B>Task 2 cont...</B></font>\n### Program: adding using `int` casting\n- **[ ]** initialize **`str_integer`** variable to a **string containing characters of an integer** (quotes)   \n- **[ ]** initialize **`int_number`** variable with an **integer value** (no quotes)\n- **[ ]** initialize **`number_total`** variable and **add int_number + str_integer** using **`int`** casting\n- **[ ]** print the sum (**`number_total`**)"
    },
    {
      "metadata": {
        "trusted": true
      },
      "cell_type": "code",
      "source": "# [ ] code and test: adding using int casting\nstr_integer = \"2\"\nint_number = 10\nnumber_total = int(str_integer) + int_number\nprint(number_total)\n",
      "execution_count": 26,
      "outputs": [
        {
          "output_type": "stream",
          "text": "12\n",
          "name": "stdout"
        }
      ]
    },
    {
      "metadata": {},
      "cell_type": "markdown",
      "source": "# &nbsp;\n<font size=\"6\" color=\"#00A0B2\"  face=\"verdana\"> <B>Concepts</B></font>\n## `input()`  strings that represent numbers can be \"cast\" to integer values\n"
    },
    {
      "metadata": {},
      "cell_type": "markdown",
      "source": "# &nbsp;\n<font size=\"6\" color=\"#00A0B2\"  face=\"verdana\"> <B>Example</B></font>"
    },
    {
      "metadata": {
        "trusted": true
      },
      "cell_type": "code",
      "source": "# [ ] review and run code\nstudent_age = input('enter student age (integer): ')\nage_next_year = int(student_age) + 1\nprint('Next year student will be',age_next_year)",
      "execution_count": 13,
      "outputs": [
        {
          "output_type": "stream",
          "name": "stdout",
          "text": "enter student age (integer): 5\nNext year student will be 6\n"
        }
      ]
    },
    {
      "metadata": {
        "trusted": true
      },
      "cell_type": "code",
      "source": "# [ ] review and run code\n# cast to int at input\nstudent_age = int(input('enter student age (integer): '))\n\nage_in_decade = student_age + 10\n\nprint('In a decade the student will be', age_in_decade)",
      "execution_count": 14,
      "outputs": [
        {
          "output_type": "stream",
          "name": "stdout",
          "text": "enter student age (integer): 5\nIn a decade the student will be 15\n"
        }
      ]
    },
    {
      "metadata": {
        "collapsed": true
      },
      "cell_type": "markdown",
      "source": "# &nbsp;\n<font size=\"6\" color=\"#B24C00\"  face=\"verdana\"> <B>Task 3</B></font>\n## Program: adding calculator\n- get input of 2 **integer** numbers \n- cast the input and print the input followed by the result\n  - Output Example: **`9 + 13 = 22`**  \n\nOptional: check if input .isdigit() before trying integer addition to avoid errors in casting invalid inputs"
    },
    {
      "metadata": {
        "trusted": true
      },
      "cell_type": "code",
      "source": "# [ ] code and test the adding calculator\na=int(input(\"9+13=?:\"))\n\nif a==22:\n    print(\"You have got the  Correct answer!\")\nelse:\n    print(\"Oops!You have got it wrong,The correct answer is 9+13=22\")   \n",
      "execution_count": 16,
      "outputs": [
        {
          "output_type": "stream",
          "name": "stdout",
          "text": "9+13=?:22\nYou have got the  Correct answer!\n"
        }
      ]
    },
    {
      "metadata": {},
      "cell_type": "markdown",
      "source": "[Terms of use](http://go.microsoft.com/fwlink/?LinkID=206977) &nbsp; [Privacy & cookies](https://go.microsoft.com/fwlink/?LinkId=521839) &nbsp; © 2017 Microsoft"
    }
  ],
  "metadata": {
    "anaconda-cloud": {},
    "kernelspec": {
      "name": "python3",
      "display_name": "Python 3",
      "language": "python"
    },
    "language_info": {
      "mimetype": "text/x-python",
      "nbconvert_exporter": "python",
      "name": "python",
      "pygments_lexer": "ipython3",
      "version": "3.5.4",
      "file_extension": ".py",
      "codemirror_mode": {
        "version": 3,
        "name": "ipython"
      }
    }
  },
  "nbformat": 4,
  "nbformat_minor": 1
}