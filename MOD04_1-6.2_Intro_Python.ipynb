{
  "cells": [
    {
      "metadata": {},
      "cell_type": "markdown",
      "source": "# 1-6.2 Intro Python\n## Nested Conditionals\n- nested conditionals  \n- **print formatting with the (\\) escape sequence** \n\n><font size=\"5\" color=\"#00A0B2\"  face=\"verdana\"> <B>Student will be able to</B></font>\n- create nested conditional logic in code  \n- **print format print using escape sequence (\\)**"
    },
    {
      "metadata": {
        "collapsed": true
      },
      "cell_type": "markdown",
      "source": "\n# &nbsp;\n<font size=\"6\" color=\"#00A0B2\"  face=\"verdana\"> <B>Concept</B></font>\n## formatting with escape sequences\n[![view video](https://iajupyterprodblobs.blob.core.windows.net/imagecontainer/common/play_video.png)]( http://edxinteractivepage.blob.core.windows.net/edxpages/f7cff1a7-5601-48a1-95a6-fd1fdfabd20e.html?details=[{\"src\":\"http://jupyternootbookwams.streaming.mediaservices.windows.net/b64e53fd-eb3b-4383-8b5f-4da51fc881c5/Unit1_Section6.2-Escape-Sequences.ism/manifest\",\"type\":\"application/vnd.ms-sstr+xml\"}],[{\"src\":\"http://jupyternootbookwams.streaming.mediaservices.windows.net/b64e53fd-eb3b-4383-8b5f-4da51fc881c5/Unit1_Section6.2-Escape-Sequences.vtt\",\"srclang\":\"en\",\"kind\":\"subtitles\",\"label\":\"english\"}])\n### Escape Sequences\n- escape sequences all start with a backslash (**`\\`**) \n- escape sequences can be used to display characters in python reserved for formatting\n  - **`\\\\`** &nbsp; Backslash (**`\\`**)  \n  - **`\\'`** &nbsp; Single quote (**'**)  \n  - **`\\\"`** &nbsp; Double quote (**\"**)  \n\n\n- escape sequences are part of special formatting charcters\\n    Linefeed \n  - **`\\t`** &nbsp; Tab\n  - **`\\n`** &nbsp; return or newline\n\nWe use escape sequences in strings - usually with `print()` statements "
    },
    {
      "metadata": {},
      "cell_type": "markdown",
      "source": "# &nbsp;\n<font size=\"6\" color=\"#00A0B2\"  face=\"verdana\"> <B>Examples</B></font>  "
    },
    {
      "metadata": {
        "trusted": true
      },
      "cell_type": "code",
      "source": "# review and run example using \\n (new line)\nprint('Hello World!\\nI am formatting print ')",
      "execution_count": 1,
      "outputs": [
        {
          "output_type": "stream",
          "text": "Hello World!\nI am formatting print \n",
          "name": "stdout"
        }
      ]
    },
    {
      "metadata": {
        "trusted": true
      },
      "cell_type": "code",
      "source": "# review and run code using \\t (tab)\nstudent_age = 17\nstudent_name = \"Hiroto Yamaguchi\"\nprint(\"STUDENT NAME\\t\\tAGE\")\nprint(student_name,'\\t' + str(student_age))",
      "execution_count": 3,
      "outputs": [
        {
          "output_type": "stream",
          "text": "STUDENT NAME\t\tAGE\nHiroto Yamaguchi \t17\n",
          "name": "stdout"
        }
      ]
    },
    {
      "metadata": {
        "trusted": true
      },
      "cell_type": "code",
      "source": "# review and run code \n# using \\\" and \\' (escaped quotes)\nprint(\"\\\"quotes in quotes\\\"\")\nprint(\"I\\'ve said \\\"save your notebook,\\\" so let\\'s do it!\")\n\n# using  \\\\ (escaped backslash)\nprint(\"for a newline use \\\\n\")",
      "execution_count": 4,
      "outputs": [
        {
          "output_type": "stream",
          "text": "\"quotes in quotes\"\nI've said \"save your notebook,\" so let's do it!\nfor a newline use \\n\n",
          "name": "stdout"
        }
      ]
    },
    {
      "metadata": {},
      "cell_type": "markdown",
      "source": "# &nbsp;\n<font size=\"6\" color=\"#B24C00\"  face=\"verdana\"> <B>Task 1</B></font>  \nFormat using backslash (**`\\`**) escape sequences"
    },
    {
      "metadata": {
        "trusted": true
      },
      "cell_type": "code",
      "source": "# [ ] print \"\\\\\\WARNING!///\"\nprint(\"\\\"\\\\\\\\\\WARNING!///\\\"\")\n\n\n",
      "execution_count": null,
      "outputs": []
    },
    {
      "metadata": {
        "trusted": true
      },
      "cell_type": "code",
      "source": "# [ ] print output that is exactly (with quotes): \"What's that?\" isn't a specific question.\nprint(\"\\\"What's that?\\\"\") \n\n",
      "execution_count": 5,
      "outputs": [
        {
          "output_type": "stream",
          "text": "\"What's that?\"\n",
          "name": "stdout"
        }
      ]
    },
    {
      "metadata": {
        "trusted": true
      },
      "cell_type": "code",
      "source": "# [ ] from 1 print statement output the text commented below using no spaces\n# One     Two     Three\n# Four    Five    Six\nprint(\"One\",'\\t\\t'\"Two\",'\\t\\t'\"Three\"'\\n'\"Four\",'\\t\\t'\"Five\",'\\t\\t'\"Six\")\n",
      "execution_count": 6,
      "outputs": [
        {
          "output_type": "stream",
          "text": "One \t\tTwo \t\tThree\nFour \t\tFive \t\tSix\n",
          "name": "stdout"
        }
      ]
    },
    {
      "metadata": {},
      "cell_type": "markdown",
      "source": "# &nbsp;\n<font size=\"6\" color=\"#B24C00\"  face=\"verdana\"> <B>Task 2</B></font>\n## Program: `pre_word()` Function\nFunction has a single string parameter that it checks s is a single word starting with \"pre\"\n- Check if word starts with \"pre\"\n- Check if word .isalpha() \n- if all checks pass: return **`True`**\n- if any checks fail: return **`False`**\n- **Test** \n  - get input using the directions: *enter a word that starts with \"pre\": *\n  - call pre_word() with the input string\n  - test **if** return value is **`False`** and print message explaining not a \"pre\" word \n  - **else** print message explaining is a valid \"pre\" word"
    },
    {
      "metadata": {
        "trusted": true
      },
      "cell_type": "code",
      "source": "def pre_word (word):\n\n    if word.startswith(\"pre\"):\n        if word.isalpha():\n            print (\"Valid\")\n            return True\n    else:\n        print (\"not valid\")\n        return False\n\n\n\n\nprint (pre_word (input(\"enter a word that starts with \\\"pre\\\": \")))",
      "execution_count": 7,
      "outputs": [
        {
          "output_type": "stream",
          "name": "stdout",
          "text": "enter a word that starts with \"pre\": prepare\nValid\nTrue\n"
        }
      ]
    },
    {
      "metadata": {},
      "cell_type": "markdown",
      "source": "# &nbsp;\n<font size=\"6\" color=\"#B24C00\"  face=\"verdana\"> <B>Task 5</B></font>\n## Fix the Errors"
    },
    {
      "metadata": {
        "trusted": true
      },
      "cell_type": "code",
      "source": "# [ ] review, run, fix\nprint(\"Hello \"+ \"World!\")\n\n",
      "execution_count": 9,
      "outputs": [
        {
          "output_type": "stream",
          "text": "Hello World!\n",
          "name": "stdout"
        }
      ]
    }
  ],
  "metadata": {
    "anaconda-cloud": {},
    "kernelspec": {
      "name": "python3",
      "display_name": "Python 3",
      "language": "python"
    },
    "language_info": {
      "mimetype": "text/x-python",
      "nbconvert_exporter": "python",
      "name": "python",
      "file_extension": ".py",
      "version": "3.5.4",
      "pygments_lexer": "ipython3",
      "codemirror_mode": {
        "version": 3,
        "name": "ipython"
      }
    }
  },
  "nbformat": 4,
  "nbformat_minor": 1
}