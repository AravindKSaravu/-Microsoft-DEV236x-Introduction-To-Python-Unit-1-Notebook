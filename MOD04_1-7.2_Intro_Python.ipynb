{
  "cells": [
    {
      "metadata": {},
      "cell_type": "markdown",
      "source": "# 1-7.2 Intro Python\n## `while()` loops & increments\n- while `True`  or forever loops\n- incrementing in loops\n- **Boolean operators in while loops**\n\n\n-----  \n\n><font size=\"5\" color=\"#00A0B2\"  face=\"verdana\"> <B>Student will be able to</B></font>\n- create forever loops using `while` and `break`\n- use incrementing variables in a while loop\n- **control while loops using Boolean operators**"
    },
    {
      "metadata": {
        "collapsed": true
      },
      "cell_type": "markdown",
      "source": "# &nbsp;\n<font size=\"6\" color=\"#00A0B2\"  face=\"verdana\"> <B>Concept</B></font>\n## `while` with Boolean comparison\n[![view video](https://iajupyterprodblobs.blob.core.windows.net/imagecontainer/common/play_video.png)]( http://edxinteractivepage.blob.core.windows.net/edxpages/f7cff1a7-5601-48a1-95a6-fd1fdfabd20e.html?details=[{\"src\":\"http://jupyternootbookwams.streaming.mediaservices.windows.net/f540955e-543b-48f0-8201-3513b0beeed9/Unit1_Section7.2-while-boolean-comp.ism/manifest\",\"type\":\"application/vnd.ms-sstr+xml\"}],[{\"src\":\"http://jupyternootbookwams.streaming.mediaservices.windows.net/f540955e-543b-48f0-8201-3513b0beeed9/Unit1_Section7.2-while-boolean-comp.vtt\",\"srclang\":\"en\",\"kind\":\"subtitles\",\"label\":\"english\"}])\n## `while` with Boolean comparison operator\n### `while x < 5:`\nwith increment we used  **`break`** when count becomes greater than some number  \n\nThe same result can be achieved by using **`while x < 5:`**"
    },
    {
      "metadata": {},
      "cell_type": "markdown",
      "source": "# &nbsp;\n<font size=\"6\" color=\"#00A0B2\"  face=\"verdana\"> <B>Examples</B></font>\n  \n"
    },
    {
      "metadata": {
        "trusted": false
      },
      "cell_type": "code",
      "source": "# review and run GREET COUNT\ngreet_count = 5\n\n# loop while count is greater than 0\nwhile greet_count > 0:\n    print(greet_count, \"!\")\n    greet_count -= 1\nprint(\"\\nIGNITION!\")",
      "execution_count": null,
      "outputs": []
    },
    {
      "metadata": {},
      "cell_type": "markdown",
      "source": "# &nbsp;\n<font size=\"6\" color=\"#B24C00\"  face=\"verdana\"> <B>Task 1</B></font>\n## `while` with comparison operator \n### Program: Animal Names\n- Use **`while`** to get the user input, animal_name, of 4 animals \n  - use a counter, num_animals, in the while loop condition\n  - append the names to a string variable, all_animals\n  - User can exit early by typing \"exit\" (check if animal_name is \"exit\" and break)\n- when the loop finishes, print the names of all_animals\n\n-bonus: print \"no animals\" if animal_name is empty after exiting the loop\n\n**Tip:** Think about Sequence and variables that need to be initialized before the while loop"
    },
    {
      "metadata": {
        "trusted": true
      },
      "cell_type": "code",
      "source": "all_animals = []\nanimal_name = \"\"\nwhile len(all_animals)<4:\n    animal_name = input (\"enter animal name or exit: \")\n    if animal_name == \"exit\":\n        break\n    elif animal_name == \"\":\n        print(\"no animals\")\n        break\n    elif animal_name != all_animals: \n        all_animals.append(animal_name)\nprint (all_animals)",
      "execution_count": 12,
      "outputs": [
        {
          "output_type": "stream",
          "name": "stdout",
          "text": "enter animal name or exit: exit\n[]\n"
        }
      ]
    },
    {
      "metadata": {
        "collapsed": true
      },
      "cell_type": "markdown",
      "source": "# &nbsp;\n<font size=\"6\" color=\"#00A0B2\"  face=\"verdana\"> <B>Concept</B></font>\n## `while` Boolean string tests\n[![view video](https://iajupyterprodblobs.blob.core.windows.net/imagecontainer/common/play_video.png)]( http://edxinteractivepage.blob.core.windows.net/edxpages/f7cff1a7-5601-48a1-95a6-fd1fdfabd20e.html?details=[{\"src\":\"http://jupyternootbookwams.streaming.mediaservices.windows.net/26728191-873d-42ba-b6b5-48b396a8f42f/Unit1_Section7.2-while-boolean-string.ism/manifest\",\"type\":\"application/vnd.ms-sstr+xml\"}],[{\"src\":\"http://jupyternootbookwams.streaming.mediaservices.windows.net/26728191-873d-42ba-b6b5-48b396a8f42f/Unit1_Section7.2-while-boolean-string.vtt\",\"srclang\":\"en\",\"kind\":\"subtitles\",\"label\":\"english\"}])\n## Using `while` with a Boolean String Tests\nA while loop can be controlled by Boolean strings such as `while name.isalpha() == False:`"
    },
    {
      "metadata": {},
      "cell_type": "markdown",
      "source": "# &nbsp;\n<font size=\"6\" color=\"#00A0B2\"  face=\"verdana\"> <B>Example</B></font>"
    },
    {
      "metadata": {
        "trusted": true
      },
      "cell_type": "code",
      "source": "# review and run example that loops until a valid first name format is entered\nstudent_fname = \"\"\nwhile student_fname.isalpha() == False:\n    student_fname = input(\"enter student\\'s first (Letters only, No spaces): \")\nprint(\"\\n\" + student_fname.title(),\"has been entered as first name\")",
      "execution_count": 13,
      "outputs": [
        {
          "output_type": "stream",
          "name": "stdout",
          "text": "enter student's first (Letters only, No spaces): ARavindKS\n\nAravindks has been entered as first name\n"
        }
      ]
    },
    {
      "metadata": {},
      "cell_type": "markdown",
      "source": "# &nbsp;\n<font size=\"6\" color=\"#B24C00\"  face=\"verdana\"> <B>Task 2</B></font>\n## Using `while` with a Boolean String\n### Program: Long Number\n#### Create variables\n- **`int_num`** and get user input **string** of only digits  \n- **`long_num`** and initialize it as an empty string  \n\n#### Create a while loop that runs as long as the input is all digits  \n\n#### Inside the while loop   \n- add **`int_num`** to the end of **`long_num`**\n- get user input for **`int_num`** again (*inside while loop this time*)  \n\n#### After the loop exits \n- print the value of **`long_num`**   "
    },
    {
      "metadata": {
        "trusted": true
      },
      "cell_type": "code",
      "source": "# [ ] Create the program, run tests\nint_num=input(\"Enter a Digit!:\")\nlong_num =[]\nwhile int_num.isdigit():\n    long_num.append(int_num)\n    \n    int_num=input(\"Enter a Digit!:\")\n    if int_num.isdigit()==False:\n        print(\"Not a digit\")\n        break\nprint(long_num)\n\n",
      "execution_count": 26,
      "outputs": [
        {
          "output_type": "stream",
          "name": "stdout",
          "text": "Enter a Digit!:5\nEnter a Digit!:b\nNot a digit\n['5']\n"
        }
      ]
    },
    {
      "metadata": {},
      "cell_type": "markdown",
      "source": "# &nbsp;\n<font size=\"6\" color=\"#B24C00\"  face=\"verdana\"> <B>Task 3</B></font>\n## Fix the Errors\nThis loop never runs\n### This is a logic error - there is no ErrorMessage, but the code *doesn't work*"
    },
    {
      "metadata": {
        "trusted": true
      },
      "cell_type": "code",
      "source": "# [ ] review the code, run, fix the Logic error\ncount = 1\n# loop 5 times\nwhile count < 6:\n    print(count,\"x\", count, \"=\", count*count)\n    count +=1",
      "execution_count": null,
      "outputs": []
    },
    {
      "metadata": {},
      "cell_type": "markdown",
      "source": "[Terms of use](http://go.microsoft.com/fwlink/?LinkID=206977) &nbsp; [Privacy & cookies](https://go.microsoft.com/fwlink/?LinkId=521839) &nbsp; © 2017 Microsoft"
    }
  ],
  "metadata": {
    "anaconda-cloud": {},
    "kernelspec": {
      "name": "python3",
      "display_name": "Python 3",
      "language": "python"
    },
    "language_info": {
      "mimetype": "text/x-python",
      "nbconvert_exporter": "python",
      "name": "python",
      "pygments_lexer": "ipython3",
      "version": "3.5.4",
      "file_extension": ".py",
      "codemirror_mode": {
        "version": 3,
        "name": "ipython"
      }
    }
  },
  "nbformat": 4,
  "nbformat_minor": 1
}