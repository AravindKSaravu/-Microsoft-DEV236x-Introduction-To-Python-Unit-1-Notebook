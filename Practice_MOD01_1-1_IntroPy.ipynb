{
  "cells": [
    {
      "metadata": {
        "collapsed": true
      },
      "cell_type": "markdown",
      "source": "# 1-1 Intro Python Practice\n##  Getting started with Python in Jupyter Notebooks\n### notebooks, comments, print(), type(), addition, errors and art\n\n<font size=\"5\" color=\"#00A0B2\"  face=\"verdana\"> <B>Student will be able to</B></font>\n- use Python 3 in Jupyter notebooks\n- write working code using `print()` and `#` comments  \n- write working code using `type()` and variables\n- combine strings using string addition (+)\n- add numbers in code (+)\n- troubleshoot errors\n- create character art  \n\n# &nbsp;\n>**note:** the **[ ]** indicates student has a task to complete  \n  \n>**reminder:** to run code and save changes: student should upload or clone a copy of notebooks \n\n#### notebook use\n- [ ] insert a **code cell** below   \n- [ ] enter the following Python code, including the comment: \n```python \n# [ ] print 'Hello!' and remember to save notebook!\nprint('Hello!')\n```\nThen run the code - the output should be:  \n`Hello!`"
    },
    {
      "metadata": {
        "trusted": false
      },
      "cell_type": "code",
      "source": "",
      "execution_count": null,
      "outputs": []
    },
    {
      "metadata": {},
      "cell_type": "markdown",
      "source": "#### run the cell below   \n- [ ] use **Ctrl + Enter**  \n- [ ] use **Shift + Enter**    "
    },
    {
      "metadata": {
        "trusted": false
      },
      "cell_type": "code",
      "source": "print('watch for the cat')",
      "execution_count": null,
      "outputs": []
    },
    {
      "metadata": {},
      "cell_type": "markdown",
      "source": "#### Student's Notebook editing\n- [ ] Edit **this** notebook Markdown cell replacing the word \"Student's\" above with your name\n- [ ] Run the cell to display the formatted text\n- [ ] Run any 'markdown' cells that are in edit mode, so they are easier to read"
    },
    {
      "metadata": {},
      "cell_type": "markdown",
      "source": "#### [ ] convert \\*this\\* cell from markdown to a code cell, then run it  \nprint('Run as a code cell')\n"
    },
    {
      "metadata": {},
      "cell_type": "markdown",
      "source": "##  # comments\ncreate a code comment that identifies this notebook, containing your name and the date"
    },
    {
      "metadata": {
        "collapsed": true,
        "trusted": false
      },
      "cell_type": "code",
      "source": "",
      "execution_count": null,
      "outputs": []
    },
    {
      "metadata": {},
      "cell_type": "markdown",
      "source": "#### use print() to \n- [ ] print [**your_name**]\n- [ ] print **is using python!**"
    },
    {
      "metadata": {
        "trusted": false
      },
      "cell_type": "code",
      "source": "# [ ] print your name\n\n# [ ] print \"is using Python\"\n\n",
      "execution_count": null,
      "outputs": []
    },
    {
      "metadata": {},
      "cell_type": "markdown",
      "source": "Output above should be:  \n`Your Name  \nis using Python!`  "
    },
    {
      "metadata": {},
      "cell_type": "markdown",
      "source": "#### use variables in print()\n- [ ] create a variable **your_name** and assign it a string containing your name\n- [ ] print **your_name**"
    },
    {
      "metadata": {
        "collapsed": true,
        "trusted": false
      },
      "cell_type": "code",
      "source": "# [ ] create a variable your_name and assign it a sting containing your name\n\n#[ ] print your_name\n\n",
      "execution_count": null,
      "outputs": []
    },
    {
      "metadata": {},
      "cell_type": "markdown",
      "source": "#### create more string variables\n- **[ ]** create variables as directed below\n- **[ ]** print the variables"
    },
    {
      "metadata": {
        "trusted": false
      },
      "cell_type": "code",
      "source": "# [ ] create variables and assign values for: favorite_song, shoe_size, lucky_number\n\n\n# [ ] print the value of each variable favorite_song, shoe_size, and lucky_number\n\n\n",
      "execution_count": null,
      "outputs": []
    },
    {
      "metadata": {},
      "cell_type": "markdown",
      "source": "#### use string addition\n- **[ ]**  print the above string variables (favorite_song, shoe_size, lucky_number) combined with a description by using **string addition**\n>for example favorite_song displayed as:  \n`favorite song is happy birthday`"
    },
    {
      "metadata": {
        "trusted": false
      },
      "cell_type": "code",
      "source": "# [ ] print favorite_song with description\n\n\n# [ ] print shoe_size with description\n\n\n# [ ] print lucky_number with description\n\n",
      "execution_count": null,
      "outputs": []
    },
    {
      "metadata": {},
      "cell_type": "markdown",
      "source": "##### more string addition\n- **[ ]** make a single string (sentence) in a variable called favorite_lucky_shoe using **string addition** with favorite_song, shoe_size, lucky_number variables and other strings as needed \n- **[ ]** print the value of the favorite_lucky_shoe variable string\n> sample output:  \n`For singing happy birthday 8.5 times, you will be fined $25`"
    },
    {
      "metadata": {
        "trusted": false
      },
      "cell_type": "code",
      "source": "# assign favorite_lucky_shoe using\n\n\n",
      "execution_count": null,
      "outputs": []
    },
    {
      "metadata": {},
      "cell_type": "markdown",
      "source": "### print() art"
    },
    {
      "metadata": {},
      "cell_type": "markdown",
      "source": "#### use `print()` and the asterisk **\\*** to create the following shapes\n- [ ] diagonal line  \n- [ ] rectangle  \n- [ ] smiley face"
    },
    {
      "metadata": {
        "trusted": false
      },
      "cell_type": "code",
      "source": "# [ ] print a diagonal using \"*\"\n\n\n# [ ] rectangle using \"*\"\n\n\n# [ ] smiley using \"*\"\n\n\n",
      "execution_count": null,
      "outputs": []
    },
    {
      "metadata": {},
      "cell_type": "markdown",
      "source": "#### Using `type()`\n-**[ ]** calulate the *type* using `type()`"
    },
    {
      "metadata": {
        "trusted": false
      },
      "cell_type": "code",
      "source": "# [ ] display the type of 'your name' (use single quotes)\n\n\n",
      "execution_count": null,
      "outputs": []
    },
    {
      "metadata": {
        "trusted": false
      },
      "cell_type": "code",
      "source": "# [ ] display the type of \"save your notebook!\" (use double quotes)\n\n\n",
      "execution_count": null,
      "outputs": []
    },
    {
      "metadata": {
        "trusted": false
      },
      "cell_type": "code",
      "source": "# [ ] display the type of \"25\" (use quotes)\n\n\n",
      "execution_count": null,
      "outputs": []
    },
    {
      "metadata": {
        "trusted": false
      },
      "cell_type": "code",
      "source": "# [ ] display the type of \"save your notebook \" + 'your name'\n\n\n",
      "execution_count": null,
      "outputs": []
    },
    {
      "metadata": {
        "trusted": false
      },
      "cell_type": "code",
      "source": "# [ ] display the type of 25 (no quotes)\n\n\n",
      "execution_count": null,
      "outputs": []
    },
    {
      "metadata": {
        "trusted": false
      },
      "cell_type": "code",
      "source": "# [ ] display the type of 25 + 10 \n\n\n",
      "execution_count": null,
      "outputs": []
    },
    {
      "metadata": {
        "trusted": false
      },
      "cell_type": "code",
      "source": "# [ ] display the type of 1.55\n\n\n",
      "execution_count": null,
      "outputs": []
    },
    {
      "metadata": {
        "trusted": false
      },
      "cell_type": "code",
      "source": "# [ ] display the type of 1.55 + 25\n\n\n",
      "execution_count": null,
      "outputs": []
    },
    {
      "metadata": {},
      "cell_type": "markdown",
      "source": "#### Find the type of variables\n- **[ ]** run the cell below to make the variables available to be used in other code\n- **[ ]** display the data type as directed in the cells that follow"
    },
    {
      "metadata": {
        "collapsed": true,
        "trusted": false
      },
      "cell_type": "code",
      "source": "# assignments ***RUN THIS CELL*** before starting the section\n\nstudent_name = \"Gus\"\nstudent_age = 16\nstudent_grade = 3.5\nstudent_id = \"ABC-000-000\"\n",
      "execution_count": null,
      "outputs": []
    },
    {
      "metadata": {
        "trusted": false
      },
      "cell_type": "code",
      "source": "# [ ] display the current type of the variable student_name\n\n\n",
      "execution_count": null,
      "outputs": []
    },
    {
      "metadata": {
        "trusted": false
      },
      "cell_type": "code",
      "source": "# [ ] display the type of student_age\n\n\n",
      "execution_count": null,
      "outputs": []
    },
    {
      "metadata": {
        "trusted": false
      },
      "cell_type": "code",
      "source": "# [ ] display the type of student_grade\n\n\n",
      "execution_count": null,
      "outputs": []
    },
    {
      "metadata": {
        "trusted": false
      },
      "cell_type": "code",
      "source": "# [ ] display the type of student_age + student_grade\n\n\n",
      "execution_count": null,
      "outputs": []
    },
    {
      "metadata": {
        "trusted": false
      },
      "cell_type": "code",
      "source": "# [ ] display the current type of student_id\n\n\n",
      "execution_count": null,
      "outputs": []
    },
    {
      "metadata": {
        "trusted": false
      },
      "cell_type": "code",
      "source": "# assign new value to student_id \n\n\n# [ ] display the current of student_id\n\n\n",
      "execution_count": null,
      "outputs": []
    },
    {
      "metadata": {
        "collapsed": true
      },
      "cell_type": "markdown",
      "source": "#### number integer addition\n\n- **[ ]** create variables (x, y, z) with integer values"
    },
    {
      "metadata": {
        "collapsed": true,
        "trusted": false
      },
      "cell_type": "code",
      "source": "# [ ] create integer variables (x, y, z) and assign them 1-3 digit integers (no decimals - no quotes)\n\n\n",
      "execution_count": null,
      "outputs": []
    },
    {
      "metadata": {},
      "cell_type": "markdown",
      "source": "- **[ ]** insert a **code cell** below\n- **[ ]** create an integer variable named **xyz_sum** equal to the sum of x, y, and z\n- **[ ]** print the value of **xyz_sum** "
    },
    {
      "metadata": {
        "trusted": false
      },
      "cell_type": "code",
      "source": "\n\n",
      "execution_count": null,
      "outputs": []
    },
    {
      "metadata": {},
      "cell_type": "markdown",
      "source": "### Errors\n- **[ ]** troubleshoot and fix the errors below"
    },
    {
      "metadata": {
        "trusted": false
      },
      "cell_type": "code",
      "source": "# [ ] fix the error \n\nprint(\"Hello World!\"\")    \n\n\n",
      "execution_count": null,
      "outputs": []
    },
    {
      "metadata": {
        "trusted": false
      },
      "cell_type": "code",
      "source": "# [ ] fix the error \nprint(strings have quotes and variables have names)\n\n",
      "execution_count": null,
      "outputs": []
    },
    {
      "metadata": {
        "collapsed": true,
        "trusted": false
      },
      "cell_type": "code",
      "source": "# [ ] fix the error \nprint( \"I have $\" + 5)\n\n",
      "execution_count": null,
      "outputs": []
    },
    {
      "metadata": {
        "trusted": false
      },
      "cell_type": "code",
      "source": "# [ ] fix the error \nprint('always save the notebook\")\n      \n",
      "execution_count": null,
      "outputs": []
    },
    {
      "metadata": {
        "collapsed": true
      },
      "cell_type": "markdown",
      "source": "## ASCII art\n- **[ ]** Display first name or initials as ASCII Art\n- **[ ]** Challenge: insert an additional code cell to make an ASCII picture"
    },
    {
      "metadata": {
        "trusted": false
      },
      "cell_type": "code",
      "source": "# [ ] ASCII ART\n\n\n",
      "execution_count": null,
      "outputs": []
    },
    {
      "metadata": {
        "trusted": false
      },
      "cell_type": "code",
      "source": "# [ ] ASCII ART\n\n",
      "execution_count": null,
      "outputs": []
    },
    {
      "metadata": {},
      "cell_type": "markdown",
      "source": "[Terms of use](http://go.microsoft.com/fwlink/?LinkID=206977) &nbsp; [Privacy & cookies](https://go.microsoft.com/fwlink/?LinkId=521839) &nbsp; © 2017 Microsoft"
    }
  ],
  "metadata": {
    "anaconda-cloud": {},
    "kernelspec": {
      "name": "python3",
      "display_name": "Python 3",
      "language": "python"
    },
    "language_info": {
      "mimetype": "text/x-python",
      "nbconvert_exporter": "python",
      "name": "python",
      "pygments_lexer": "ipython3",
      "version": "3.5.4",
      "file_extension": ".py",
      "codemirror_mode": {
        "version": 3,
        "name": "ipython"
      }
    }
  },
  "nbformat": 4,
  "nbformat_minor": 1
}