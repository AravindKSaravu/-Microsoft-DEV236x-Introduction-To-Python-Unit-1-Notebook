{
  "cells": [
    {
      "metadata": {},
      "cell_type": "markdown",
      "source": "# 1-4.3 Intro Python Practice\n## Conditionals \n<font size=\"5\" color=\"#00A0B2\"  face=\"verdana\"> <B>Student will be able to</B></font>  \n- **control code flow with `if`... `else` conditional logic**  \n  - using Boolean string methods (`.isupper(), .isalpha(), .startswith()...`)  \n  - using comparision (`>, <, >=, <=, ==, !=`)  \n  - using Strings in comparisons  "
    },
    {
      "metadata": {},
      "cell_type": "markdown",
      "source": "## `if else`\n"
    },
    {
      "metadata": {
        "trusted": true
      },
      "cell_type": "code",
      "source": "# [ ] input avariable: age as digit and cast to int\n# if age greater than or equal to 12 then print message on age in 10 years \n# or else print message \"It is good to be\" age\nage=int(input(\"Whats Your Age?\"))\nif age>=12:\n        print(\"Your age in 10 years will be\",10+age)\nelse:\n    print(\"It is good to be\",age)",
      "execution_count": null,
      "outputs": []
    },
    {
      "metadata": {
        "trusted": true
      },
      "cell_type": "code",
      "source": "# [ ] input a number \n# if number IS a digit string then cast to int\n# print number \"greater than 100 is\" True/False\n# if number is NOT a digit string then message the user that \"only int is accepted\"\\\nnumber=input(\"Guess Number:\")\nif number.isdigit()==False:\n    print(\"only int is accepted\")\nelse:\n    number_int=int(number)\n    print(number_int,\"> 100 is \",number_int>100)\n",
      "execution_count": 1,
      "outputs": [
        {
          "output_type": "stream",
          "name": "stdout",
          "text": "Guess Number:.\nonly int is accepted\n"
        }
      ]
    },
    {
      "metadata": {},
      "cell_type": "markdown",
      "source": "### Guessing a letter A-Z  \n**check_guess()** takes 2 string arguments: **letter and guess** (both expect single alphabetical character)   \n    - if guess is not an alpha character print invalid and return False\n    - test and print if guess is \"high\" or \"low\" and return False\n    - test and print if guess is \"correct\" and return True"
    },
    {
      "metadata": {
        "trusted": true
      },
      "cell_type": "code",
      "source": "letter=\"M\"\nguess=input('Guess a letter from \"A-Z\":').upper()\ndef check_guess(letter,guess):\n    if guess.isalpha()==False:\n        print(\"Invalid\")\n        return False\n    elif guess>letter:\n        print(\"Guess is too high!\")\n        return False\n    elif guess<letter:\n        print(\"Guess is too low !\")\n        return False\n    elif guess==letter:\n        print(\"Nailed it!,Your guess is correct\")\n        return True\n    else:\n        pass\nprint(check_guess(letter,guess))",
      "execution_count": null,
      "outputs": []
    },
    {
      "metadata": {
        "trusted": true
      },
      "cell_type": "markdown",
      "source": "### Letter Guess\n**create letter_guess() function that gives user 3 guesses**\n- takes a letter character argument for the answer letter\n- gets user input for letter guess  \n- calls check_guess() with answer and guess\n- End letter_guess if \n    - check_guess() equals True, return True  \n    - or after 3 failed attempts, return False"
    },
    {
      "metadata": {
        "trusted": true
      },
      "cell_type": "code",
      "source": "# [ ] create letter_guess() function, call the function to test\nletter_1=letter\ndef letter_guess(letter_guess):\n    letter_guess=input('Guess a letter from \"A-Z\":').upper()\n    if letter_guess==letter_1:\n        print(\"Well done Correct!\")\n        return True\n    else:\n        letter_guess=input('Guess a letter from \"A-Z\":').upper()\n    if letter_guess==letter_1:\n        print(\"Well done Correct!\")\n    else:\n        letter_guess=input('Guess a letter from \"A-Z\":').upper()\n        print(\"Oh Sorry try next time!\")\n        return False\n\nprint(letter_guess(check_guess),letter_1,letter_guess)  \n",
      "execution_count": null,
      "outputs": []
    },
    {
      "metadata": {},
      "cell_type": "markdown",
      "source": "### Pet Conversation\n**ask the user for a sentence about a pet and then reply**  \n- get user input in variable: about_pet\n- using a series of **if** statements respond with appropriate conversation\n  - check if \"dog\" is in the string about_pet (sample reply \"Ah, a dog\")\n  - check if \"cat\" is in the string about_pet\n  - check if 1 or more animal is in string about_pet\n- no need for **else**'s\n- finish with thanking for the story"
    },
    {
      "metadata": {
        "trusted": true
      },
      "cell_type": "code",
      "source": "# [ ] complete pet conversation\nabout_pet=input(\"Please give something about a pet:\").lower()\nif \"dog\" in about_pet:\n    print(\"Ah! A dog\")\nelif \"cat\"in about_pet:\n    print(\"Lovely cat!\")\nelif \"rabbit\" in about_pet:\n    print(\"Cute Rabbit!\")\nelif \"tiger\" in about_pet:\n    print(\"Dangerous Tiger\")\nprint(\"Thank you for your response! :-)\")",
      "execution_count": 4,
      "outputs": [
        {
          "output_type": "stream",
          "name": "stdout",
          "text": "Please give something about a pet:a\nThank you for your response! :-)\n"
        }
      ]
    },
    {
      "metadata": {
        "collapsed": true
      },
      "cell_type": "markdown",
      "source": "[Terms of use](http://go.microsoft.com/fwlink/?LinkID=206977) &nbsp; [Privacy & cookies](https://go.microsoft.com/fwlink/?LinkId=521839) &nbsp; © 2017 Microsoft"
    }
  ],
  "metadata": {
    "anaconda-cloud": {},
    "kernelspec": {
      "name": "python3",
      "display_name": "Python 3",
      "language": "python"
    },
    "language_info": {
      "mimetype": "text/x-python",
      "nbconvert_exporter": "python",
      "name": "python",
      "pygments_lexer": "ipython3",
      "version": "3.5.4",
      "file_extension": ".py",
      "codemirror_mode": {
        "version": 3,
        "name": "ipython"
      }
    }
  },
  "nbformat": 4,
  "nbformat_minor": 1
}