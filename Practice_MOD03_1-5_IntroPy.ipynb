{
  "cells": [
    {
      "metadata": {},
      "cell_type": "markdown",
      "source": "# 1-5 Intro Python Practice  \n## conditionals, type, and mathematics extended   \n&nbsp;\n<font size=\"5\" color=\"#00A0B2\"  face=\"verdana\"> <B>Student will be able to</B></font>  \n- code more than two choices using **`elif`** \n- gather numeric input using type casting  \n- perform subtraction, multiplication and division operations in code  &nbsp;  \n"
    },
    {
      "metadata": {},
      "cell_type": "markdown",
      "source": "# &nbsp;  \n<font size=\"6\" color=\"#B24C00\"  face=\"verdana\"> <B>Tasks</B></font>"
    },
    {
      "metadata": {},
      "cell_type": "markdown",
      "source": "### Rainbow colors\nask for input of a favorite rainbow color first letter: ROYGBIV  \n\nUsing `if`, `elif`, and `else`:  \n- print the color matching the letter  \n    - R = Red  \n    - O = Orange  \n    - Y = Yellow  \n    - G = Green\n    - B = Blue\n    - I = Indigo\n    - V = Violet\n    - else print \"no match\"\n"
    },
    {
      "metadata": {
        "trusted": true
      },
      "cell_type": "code",
      "source": "# [ ] complete rainbow colors\nR = \"Red\"\nO = \"Orange\"\nY = \"Yellow\"\nG = \"Green\"\nB = \"Blue\"\nI = \"Indigo\"\nV = \"Violet\"\nrainbow_color=input(\"Favorite Rainbow Color letter(ROYGBIV):\")\nif rainbow_color==\"O\":\n    print(\"Wow!\",O)\nelif rainbow_color==\"Y\":\n    print(\"Wow!\",Y)\nelif rainbow_color==\"G\":\n    print(\"Wow!\",G)\nelif rainbow_color==\"R\":\n    print(\"Wow!\",R)\nelif rainbow_color==\"B\":\n    print(\"Wow!\",B)\nelif rainbow_color==\"I\":\n    print(\"Wow!\",I)\nelif rainbow_color==\"V\":\n    print(\"Wow!\",V)\nelse:\n    print(\"Its not a rainbow color!Sorry! :-)\")",
      "execution_count": 10,
      "outputs": [
        {
          "output_type": "stream",
          "name": "stdout",
          "text": "Favorite Rainbow Color letter(ROYGBIV):R\nWow! Red\n"
        }
      ]
    },
    {
      "metadata": {
        "trusted": true
      },
      "cell_type": "code",
      "source": "# [ ] make the code above into a function rainbow_color() that has a string parameter, \n# get input and call the function and return the matching color as a string or \"no match\" message.\n# Call the function and print the return string.\nR = \"Red\"\nO = \"Orange\"\nY = \"Yellow\"\nG = \"Green\"\nB = \"Blue\"\nI = \"Indigo\"\nV = \"Violet\"\ndef rainbow_color(rainbow_color):\n    rainbow_color=input(\"Favorite Rainbow Color letter(ROYGBIV):\")\n    if rainbow_color==\"O\":\n        print(\"Wow!\",O)\n        return O\n    elif rainbow_color==\"Y\":\n        print(\"Wow!\",Y)\n        return Y\n    elif rainbow_color==\"G\":\n        print(\"Wow!\",G)\n        return G\n    elif rainbow_color==\"R\":\n        print(\"Wow!\",R)\n        return R\n    elif rainbow_color==\"B\":\n        print(\"Wow!\",B)\n        return B\n    elif rainbow_color==\"I\":\n        print(\"Wow!\",I)\n        return I\n    elif rainbow_color==\"V\":\n        print(\"Wow!\",V)\n        return V\n    else:\n        print(\"Its not a rainbow color!Sorry! :-)\")\n        return False\nprint(rainbow_color(rainbow_color))\n\n\n    \n",
      "execution_count": 26,
      "outputs": [
        {
          "output_type": "stream",
          "name": "stdout",
          "text": "Favorite Rainbow Color letter(ROYGBIV):y\nIts not a rainbow color!Sorry! :-)\nFalse\n"
        }
      ]
    },
    {
      "metadata": {},
      "cell_type": "markdown",
      "source": "# &nbsp;  \n**Create function age_20() that adds or subtracts 20 from your age for a return value based on current age** (use `if`) \n- call the funtion with user input and then use the return value in a sentence  \nexample `age_20(25)` returns **5**: \n> \"5 years old, 20 years difference from now\""
    },
    {
      "metadata": {
        "trusted": true
      },
      "cell_type": "code",
      "source": "# [ ] complete age_20()\nage=int(input(\"Whats your Age?:\"))\nage_1=20-age\ndef age_20(age):        \n    if age>20:\n        print(age_1,\"years old,20 years difference from now!\")\n    else:\n        print(age_1,\"years old!, 20 years summation from now..!\")\n    return age_1\nprint(age_20(age))",
      "execution_count": 32,
      "outputs": [
        {
          "output_type": "stream",
          "name": "stdout",
          "text": "Whats your Age?:3\n17 years old!, 20 years summation from now..!\n17\n"
        }
      ]
    },
    {
      "metadata": {},
      "cell_type": "markdown",
      "source": "**create a function rainbow_or_age that takes a string argument**\n- if argument is a digit return the value of calling age_20() with the str value cast as **`int`** \n- if argument is an alphabetical character return the value of calling rainbow_color() with the str\n- if neither return FALSE"
    },
    {
      "metadata": {
        "trusted": true
      },
      "cell_type": "code",
      "source": "# [ ]  create rainbow_or_age()'\na=input(\"Enter a digit/Alphabet!\")\ndef rainbow_or_age(a):\n    if a.isdigit():\n        return age_20(age),int(a)\n    elif a.isalpha()==True:\n        return rainbow_color(rainbow_color),a\n    else:\n        return False\nprint(rainbow_or_age(a))",
      "execution_count": 34,
      "outputs": [
        {
          "output_type": "stream",
          "name": "stdout",
          "text": "Enter a digit/Alphabet!Y\nFavorite Rainbow Color letter(ROYGBIV):Y\nWow! Yellow\n('Yellow', 'Y')\n"
        }
      ]
    },
    {
      "metadata": {
        "trusted": true
      },
      "cell_type": "code",
      "source": "# [ ]  add 2 numbers from input using a cast to integer and display the answer \na=input(\"Please give us your fav number:\")\nb=input(\"Please give us your 2nd fav number:\")\nprint(int(a)+int(b))",
      "execution_count": 11,
      "outputs": [
        {
          "output_type": "stream",
          "name": "stdout",
          "text": "Please give us your fav number:43\nPlease give us your 2nd fav number:3\n46\n"
        }
      ]
    },
    {
      "metadata": {
        "trusted": true
      },
      "cell_type": "code",
      "source": "# [ ] Multiply 2 numbers from input using cast and save the answer as part of a string \"the answer is...\"\n# display the string using print\na=input(\"Please give us your fav number:\")\nb=input(\"Please give us your 2nd fav number:\")\nc=\"The answer is = \",int(a)*int(b)\nprint(c)",
      "execution_count": 16,
      "outputs": [
        {
          "output_type": "stream",
          "name": "stdout",
          "text": "Please give us your fav number:6\nPlease give us your 2nd fav number:6\n('the answer is', 36)\n"
        }
      ]
    },
    {
      "metadata": {
        "trusted": true
      },
      "cell_type": "code",
      "source": "# [ ] get input of 2 numbers and display the average: (num1 + num2) divided by 2\nnum1=int(input(\"Give your favorite number:\"))\nnum2=int(input(\"Give your favorite number:\"))\nprint((num1+num2)/2)",
      "execution_count": 22,
      "outputs": [
        {
          "output_type": "stream",
          "name": "stdout",
          "text": "Give your favorite number:5\nGive your favorite number:2\n3.5\n"
        }
      ]
    },
    {
      "metadata": {
        "trusted": true
      },
      "cell_type": "code",
      "source": "# [ ] get input of 2 numbers and subtract the largest from the smallest (use an if statement to see which is larger)\n# show the answer\nnum1=int(input(\"Give your favorite number:\"))\nnum2=int(input(\"Give your favorite number:\"))\nif num1>num2:\n    print(num1-num2)\nif num1<num2:\n    print(num2-num1)\n\n",
      "execution_count": 23,
      "outputs": [
        {
          "output_type": "stream",
          "name": "stdout",
          "text": "Give your favorite number:5\nGive your favorite number:25\n20\n"
        }
      ]
    },
    {
      "metadata": {
        "trusted": true
      },
      "cell_type": "code",
      "source": "# [ ] Divide a larger number by a smaller number and print the integer part of the result\n# don't divide by zero! if a zero is input make the result zero\n# [ ] cast the answer to an integer to cut off the decimals and print the result\nnum1=int(input(\"Give your favorite number:\"))\nnum2=int(input(\"Give your favorite number:\"))  \nif num1 >= num2:\n    print(num1/num2)\nif num1 < num2:\n    print(num2/num1)\nif num1 or num2==0:\n    pass",
      "execution_count": 40,
      "outputs": [
        {
          "output_type": "stream",
          "name": "stdout",
          "text": "Give your favorite number:6\nGive your favorite number:6\n1.0\n"
        }
      ]
    },
    {
      "metadata": {},
      "cell_type": "markdown",
      "source": "[Terms of use](http://go.microsoft.com/fwlink/?LinkID=206977) &nbsp; [Privacy & cookies](https://go.microsoft.com/fwlink/?LinkId=521839) &nbsp; © 2017 Microsoft"
    }
  ],
  "metadata": {
    "anaconda-cloud": {},
    "kernelspec": {
      "name": "python3",
      "display_name": "Python 3",
      "language": "python"
    }
  },
  "nbformat": 4,
  "nbformat_minor": 1
}