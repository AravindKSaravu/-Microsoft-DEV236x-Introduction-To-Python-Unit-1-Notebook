{
  "cells": [
    {
      "metadata": {},
      "cell_type": "markdown",
      "source": "# 1-6.2 Intro Python Practice\n## Nested Conditionals\n<font size=\"5\" color=\"#00A0B2\"  face=\"verdana\"> <B>Student will be able to</B></font>\n- create nested conditional logic in code  \n- print format print using escape sequence (**\\**)"
    },
    {
      "metadata": {},
      "cell_type": "markdown",
      "source": "# &nbsp;\n<font size=\"6\" color=\"#B24C00\"  face=\"verdana\"> <B>Tasks</B></font>  "
    },
    {
      "metadata": {
        "trusted": true
      },
      "cell_type": "code",
      "source": "# [ ] print a string that outputs the following exactly: The new line character is \"\\n\"\na=\"The new line character is\" \"\\n\"\nprint(a)\n",
      "execution_count": 3,
      "outputs": [
        {
          "output_type": "stream",
          "text": "The new line character is\n ABC\n",
          "name": "stdout"
        }
      ]
    },
    {
      "metadata": {
        "trusted": true
      },
      "cell_type": "code",
      "source": "# [ ] print output that is exactly (with quotes): \"That's how we escape!\"\nprint(\"\\\"That's how we escape\\\"\")\n",
      "execution_count": 4,
      "outputs": [
        {
          "output_type": "stream",
          "text": "\"That's how we escape\"\n",
          "name": "stdout"
        }
      ]
    },
    {
      "metadata": {
        "trusted": true
      },
      "cell_type": "code",
      "source": "# [ ] with only 1 print statement and using No Space Characters, output the text commented below  \n\n# 1       one\n# 22      two\n# 333     three\nprint(\" 1\\t one\\n 22\\t two\\n 333\\t three\")\n\n",
      "execution_count": 9,
      "outputs": [
        {
          "output_type": "stream",
          "text": " 1\t one\n 22\t two\n 333\t three\n",
          "name": "stdout"
        }
      ]
    },
    {
      "metadata": {},
      "cell_type": "markdown",
      "source": "# &nbsp;\n## Program: quote_me() Function\nquote_me takes a string argument and returns a string that will display surrounded with **added double quotes** if printed  \n- check if passed string starts with a double quote (`\"\\\"\"`), then surround string with single quotations \n- if the passed string starts with single quote, or if doesn't start with a quotation mark, then surround with double quotations  \n\nTest the function code passing string input as the argument to quote_me() "
    },
    {
      "metadata": {
        "trusted": true
      },
      "cell_type": "code",
      "source": "# [ ] create and test quote_me()\na=input(\"Whats Up?\")\ndef quote_me(a):\n    if a.startswith(\"\\\"\"):\n        print(\"\\'Wow\\'\")\n        return True\n    elif a.startswith(\"\\'\"):\n        print(\"\\\"Wow Wonderful!\\\"\")\n        return True\n    else:\n        pass\n    return False\nprint(quote_me(a))\n    \n    \n\n",
      "execution_count": 10,
      "outputs": [
        {
          "output_type": "stream",
          "name": "stdout",
          "text": "Whats Up?\nFalse\n"
        }
      ]
    },
    {
      "metadata": {},
      "cell_type": "markdown",
      "source": "# &nbsp;\n### Program: shirt order \nFirst get input for color and size  \n- White has sizes L, M \n- Blue has sizes M, S  \n\nprint available or unavailable, then  \nprint the order confirmation of color and size  \n\n*\n**hint**: set a variable \"available = False\" before nested if statements and  \nchange to True if color and size are avaliable*"
    },
    {
      "metadata": {
        "trusted": false
      },
      "cell_type": "code",
      "source": "# [ ] create shirt order using nested if \n\n",
      "execution_count": null,
      "outputs": []
    },
    {
      "metadata": {},
      "cell_type": "markdown",
      "source": "# &nbsp;\n## Program: str_analysis() Function\nCreate the str_analysis() function that takes a string argument.  In the body of the function:\n- Check `if` string is digits  \n  - if digits: convert to `int` and check `if` greater than 99  \n    - if greater than 99, print a message about a \"big number\"  \n    - if not greater than 99, print message about \"small number\"    \n  - if not digits: check if string isalpha\n    - if isalpha print message about being all alpha\n    - if not isalpha print a message about being neither all alpha nor all digit  \n    \ncall the function with a string from user input "
    },
    {
      "metadata": {
        "trusted": false
      },
      "cell_type": "code",
      "source": "# [ ] create and test str_analysis()\n\n\n",
      "execution_count": null,
      "outputs": []
    },
    {
      "metadata": {
        "collapsed": true
      },
      "cell_type": "markdown",
      "source": "# &nbsp;  \n### Program: ticket_check() - finds out if a seat is available  \nCall ticket_check() function with 2 arguments: *section* and *seats* requested and return True or False  \n- **section** is a string and expects: general, floor\n- **seats** is an integer and expects: 1 - 10  \n\nCheck for valid section and seats\n- if section is *general* (or use startswith \"g\")  \n  - if seats is 1-10 return True \n- if section is *floor* (or use starts with \"f\")\n  - if seats is 1-4 return True  \n\notherwise return False"
    },
    {
      "metadata": {
        "trusted": false
      },
      "cell_type": "code",
      "source": "# [ ] create and call ticket_check()\n\n",
      "execution_count": null,
      "outputs": []
    },
    {
      "metadata": {
        "collapsed": true
      },
      "cell_type": "markdown",
      "source": "[Terms of use](http://go.microsoft.com/fwlink/?LinkID=206977) &nbsp; [Privacy & cookies](https://go.microsoft.com/fwlink/?LinkId=521839) &nbsp; © 2017 Microsoft"
    }
  ],
  "metadata": {
    "anaconda-cloud": {},
    "kernelspec": {
      "name": "python3",
      "display_name": "Python 3",
      "language": "python"
    },
    "language_info": {
      "mimetype": "text/x-python",
      "nbconvert_exporter": "python",
      "name": "python",
      "pygments_lexer": "ipython3",
      "version": "3.5.4",
      "file_extension": ".py",
      "codemirror_mode": {
        "version": 3,
        "name": "ipython"
      }
    }
  },
  "nbformat": 4,
  "nbformat_minor": 1
}