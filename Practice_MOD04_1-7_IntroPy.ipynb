{
  "cells": [
    {
      "metadata": {},
      "cell_type": "markdown",
      "source": "# 1-7.2 Intro Python Practice\n## `while()` loops & increments\n<font size=\"5\" color=\"#00A0B2\"  face=\"verdana\"> <B>Student will be able to</B></font>\n- create forever loops using `while` and `break`\n- use incrementing variables in a while loop\n- control while loops using Boolean operators"
    },
    {
      "metadata": {
        "trusted": true
      },
      "cell_type": "code",
      "source": "# [ ] use a \"forever\" while loop to get user input of integers to add to sum, \n#until a non-digit is entered, then break the loop and print sum\nsum=0\nwhile True:    \n    sum1 = input(\"add number or 'Q' to quit: \").lower()\n    if sum1 == 'Q':\n        break\n    if sum1.isdigit():\n        sum = sum + int(sum1)\n        print(sum)         \n    else:\n        print('Please enter a digit!')",
      "execution_count": null,
      "outputs": [
        {
          "output_type": "stream",
          "name": "stdout",
          "text": "add number or 'Q' to quit: \nPlease enter a digit!\nadd number or 'Q' to quit: o\nPlease enter a digit!\nadd number or 'Q' to quit: q\n"
        }
      ]
    },
    {
      "metadata": {
        "trusted": true
      },
      "cell_type": "code",
      "source": "# [ ] use a while True loop (forever loop) to give 4 chances for input of a correct color in a rainbow\n# rainbow = \"red orange yellow green blue indigo violet\"\ncount=0\nrainbow=\"red\"\nwhile True:\n    rainbow_color=input(\"Input a rainbow color:\")\n    count = count + 1\n    if rainbow_color==rainbow:\n        print(\"Hurrah!\")\n        break\n    if count>=4:\n        break",
      "execution_count": null,
      "outputs": []
    },
    {
      "metadata": {
        "trusted": true
      },
      "cell_type": "code",
      "source": "# [ ] Get input for a book title, keep looping while input is Not in title format (title is every word capitalized)\nwhile True:\n    title= input(\"Give us a title of a book:\").capitalize()\n    if title.istitle()==False:\n        print(\"This is not a title\")\n    if title.istitle()==True:\n        print(\"Thank You\")\n        break\n\n",
      "execution_count": null,
      "outputs": []
    },
    {
      "metadata": {
        "trusted": true
      },
      "cell_type": "code",
      "source": "# [ ] create a math quiz question and ask for the solution until the input is correct\nwhile True:\n    math_quiz_answer=input(\"What is 45*5?:\")\n    answer=\"225\"\n    if math_quiz_answer==answer:\n        print(\"Congratulations,\",answer,\"is the correct answer.\")\n        break",
      "execution_count": null,
      "outputs": []
    },
    {
      "metadata": {},
      "cell_type": "markdown",
      "source": "### Fix the Error"
    },
    {
      "metadata": {
        "trusted": true
      },
      "cell_type": "code",
      "source": "# [ ] review the code, run, fix the error\ntickets = int(input(\"enter tickets remaining (0 to quit): \"))\nwhile tickets > 0:\n        # if tickets are multiple of 3 then \"winner\"\n    if int(tickets/3) == tickets/3:\n        print(\"you win!\")\n    else:\n        print(\"sorry, not a winner.\")\n    tickets = int(input(\"enter tickets remaining (0 to quit): \"))\n\nprint(\"Game ended\")\n    \n",
      "execution_count": null,
      "outputs": []
    },
    {
      "metadata": {},
      "cell_type": "markdown",
      "source": "# create a function: quiz_item()  that asks a question and tests if input is correct  \n- quiz_item()has 2 parameter **strings**: question and solution  \n- shows question, gets answer input  \n- returns True if `answer == solution` or continues to ask question until correct answer is provided  \n- use a while loop\n\ncreate 2 or more quiz questions that call quiz_item()  \n**Hint**: provide multiple choice or T/F answers"
    },
    {
      "metadata": {
        "trusted": true
      },
      "cell_type": "code",
      "source": "def quiz_item(question, solution):\n    answer = input(question)\n    while answer != solution:\n        answer = input(question)\n    else:\n        return True\n\nquiz_item(\"A rectangle has 4 sides(T/F)?:\", \"T\")\nquiz_item(\"Chandrayaan 2 was a successfull mission?:\", \"F\")",
      "execution_count": 1,
      "outputs": [
        {
          "output_type": "stream",
          "name": "stdout",
          "text": "A rectangle has 4 sides(T/F)?:T\nChandrayaan 2 was a successfull mission?:T\nChandrayaan 2 was a successfull mission?:F\n"
        },
        {
          "output_type": "execute_result",
          "execution_count": 1,
          "data": {
            "text/plain": "True"
          },
          "metadata": {}
        }
      ]
    }
  ],
  "metadata": {
    "anaconda-cloud": {},
    "kernelspec": {
      "name": "python3",
      "display_name": "Python 3",
      "language": "python"
    },
    "language_info": {
      "mimetype": "text/x-python",
      "nbconvert_exporter": "python",
      "name": "python",
      "file_extension": ".py",
      "version": "3.5.4",
      "pygments_lexer": "ipython3",
      "codemirror_mode": {
        "version": 3,
        "name": "ipython"
      }
    }
  },
  "nbformat": 4,
  "nbformat_minor": 2
}