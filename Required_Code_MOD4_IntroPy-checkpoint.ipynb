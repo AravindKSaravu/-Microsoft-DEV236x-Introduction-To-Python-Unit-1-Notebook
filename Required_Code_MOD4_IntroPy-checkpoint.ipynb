{
  "metadata": {
    "kernelspec": {
      "name": "python3",
      "display_name": "Python 3",
      "language": "python"
    },
    "language_info": {
      "mimetype": "text/x-python",
      "nbconvert_exporter": "python",
      "name": "python",
      "file_extension": ".py",
      "version": "3.5.4",
      "pygments_lexer": "ipython3",
      "codemirror_mode": {
        "version": 3,
        "name": "ipython"
      }
    }
  },
  "nbformat_minor": 2,
  "nbformat": 4,
  "cells": [
    {
      "cell_type": "markdown",
      "source": "#  Module 4 Required Coding Activity  \nIntroduction to Python Unit 1 \n\nThe activity is based on modules 1 - 4 and is similar to the Jupyter Notebooks **`Practice_MOD04_1-6_IntroPy.ipynb`** and **`Practice_MOD04_1-7_IntroPy.ipynb`** which you may have completed as practice.  This activity is a new version of the str_analysis() function.\n\n| Some Assignment Requirements |\n|:-------------------------------|\n|This program requires the use of<ul><li>**`while`** loop to get non-empty input</li><li>**`if, else`**</li><li>**`if, else`** (nested)</li><li>**`.isdigit()`** check for integer only input</li><li>**`.isalpha()`** check for alphabetic only input</li></ul><br/>The program should **only** use code syntax covered in modules 1 - 4.<br/><br/>The program must result in printed message analysis of the input.  |\n\n\n  \n## Program: `str_analysis()` Function  \n\nCreate the str_analysis() function that takes 1 string argument and returns a string message.  The message will be an analysis of a test string that is passed as an argument to str_analysis(). The function should respond with messages such as:  \n- \"big number\"\n- \"small number\"\n- \"all alphabetic\"\n- \"multiple character types\"\n\nThe program will call str_analysis() with a string argument from input collected within a while loop.  The while loop will test if input is empty (an empty string \"\") and continue to loop and gather input until the user submits at least 1 character (input cannot be empty).  \n\nThe program then calls the str_analysis() function and prints the **return** message.\n\n\n\n#### Sample input and output:  \nenter nothing (twice) then enter a word  \n```\nenter word or integer: \nenter word or integer: \nenter word or integer: Hello\n\"Hello\" is all alphabetical characters!\n  \n```  \n-----    \n  \nalphabetical word input \n```\nenter word or integer: carbonization\n\"carbonization\" is all alphabetical characters!\n  \n```  \n-----     \n   \nnumeric inputs\n```\nenter word or integer: 30\n30 is a smaller number than expected\n\nenter word or integer: 1024\n1024 is a pretty big number\n```  \n-----  \n\n\n### loop until non-empty input is submitted  \nThis diagram represents the input part of the assignment - it is the loop to keep prompting the user for input until they submit some input (non-empty).  \n\n![image of while Loop with nested if statements described in bulleted text above](https://iajupyterprodblobs.blob.core.windows.net/imagecontainer/input_loop_sketch.png)  \n\nOnce the user gives input with characters use the input in calling the str_analysis() function.\n\n### Additional Details\nIn the body of the str_analysis() function:\n- Check `if` string is digits  \n  - if digits: convert to `int` and check `if` greater than 99  \n    - if greater than 99 print a message about a \"big number\"  \n    - if not greater than 99 print message about \"small number\"  \n  - check if string isalpha then (since not digits)\n    - if isalpha print message about being all alpha\n  - if not isalpha print a message about being neither all alpha nor all digit  \n    \ncall the function with a string from user input \n- Run and test your code before submitting",
      "metadata": {}
    },
    {
      "cell_type": "code",
      "source": "# [ ] create, call and test the str_analysis() function  \n# then PASTE THIS CODE into edX  \ndef str_analysis():\n    while True:\n        a = input(\"give us your favorite number or word:\")\n        if a.isdigit()==True:\n            if int(a)>99:\n                print(\"Oh!big number\")\n                break\n            else:\n                print(\"Oops!small number\")\n                break\n        if a.isdigit()==False:\n            if a.isalpha()==True:\n                print(\"All Alphabets!\")\n                break\n            elif a.isalpha()==False:\n                print(\"Oh God! Neither all alpha nor all digit\")\nstr_analysis()",
      "metadata": {
        "trusted": true
      },
      "execution_count": null,
      "outputs": []
    },
    {
      "cell_type": "markdown",
      "source": "### Need assignment tips and clarification? \nSee the video on the \"End of Module coding assignment > Module 4 Required Code Description\" course page on [edX](https://courses.edx.org/courses/course-v1:Microsoft+DEV236x+4T2017/course)    \n\n# Important:  [How to submit the code in edX by pasting](https://courses.edx.org/courses/course-v1:Microsoft+DEV236x+1T2017/wiki/Microsoft.DEV236x.3T2018/paste-code-end-module-coding-assignments/)",
      "metadata": {}
    },
    {
      "cell_type": "markdown",
      "source": "[Terms of use](http://go.microsoft.com/fwlink/?LinkID=206977) &nbsp; [Privacy & cookies](https://go.microsoft.com/fwlink/?LinkId=521839) &nbsp; © 2017 Microsoft",
      "metadata": {}
    }
  ]
}