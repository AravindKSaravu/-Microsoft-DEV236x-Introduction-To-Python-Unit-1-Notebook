{
  "metadata": {
    "kernelspec": {
      "name": "python3",
      "display_name": "Python 3",
      "language": "python"
    },
    "language_info": {
      "mimetype": "text/x-python",
      "nbconvert_exporter": "python",
      "name": "python",
      "pygments_lexer": "ipython3",
      "version": "3.5.4",
      "file_extension": ".py",
      "codemirror_mode": {
        "version": 3,
        "name": "ipython"
      }
    }
  },
  "nbformat_minor": 2,
  "nbformat": 4,
  "cells": [
    {
      "cell_type": "markdown",
      "source": "#  Final Project Required Coding Activity  \nIntroduction to Python Unit 1 \n\nThis activity is based on modules 1 - 4 and is similar to exercises in the Jupyter Notebooks **`Practice_MOD04_1-6_IntroPy.ipynb`** and **`Practice_MOD04_1-7_IntroPy.ipynb`** which you may have completed as practice.\n\n| Some Assignment Requirements |\n|:-------------------------------|\n|This program requires the use of<ul><li>**`while`** loop</li><li>**`if, elif, else`**</li><li>**`if,else`** (nested)</li><li>**casting** of type,  between strings and numbers</li></ul><br/>The program should **only** use code syntax covered in modules 1 - 4.<br/><br/>The program must result in print output using the numeric input, similar to that shown in the samples displaying \"Items\" and \"Total\".  |\n\n\n## Program: `adding_report()` function  \nThis program calls the adding_report() function which repeatedly takes positive integer input until the user quits and then sums the integers and prints a \"report\".    \nThe **adding_report()** function has 1 string parameter which indicates the type of report:  \n- \"A\" used as the argument to adding_report() results in printing of all of the input integers and the total  \n- \"T\" used as the argument results in printing only the total   \n\n#### Sample input and output:  \ncall adding_report() with \"A\" as argument (print all the integers entered and the total)  \n```\nInput an integer to add to the total or \"Q\" to quit\nEnter an integer or \"Q\"): 3\nEnter an integer or \"Q\"): 6\nEnter an integer or \"Q\"): 24\nEnter an integer or \"Q\"): 17\nEnter an integer or \"Q\"): 61\nEnter an integer or \"Q\"): nine\nnine is invalid input\nEnter an integer or \"Q\"): q\n\nItems\n3\n6\n24\n17\n61\n\nTotal\n 111\n```  \n\ncall with \"T\"(print only the total)  \n```\nInput an integer to add to the total or \"Q\" to quit\nEnter an integer or \"Q\": 5\nEnter an integer or \"Q\": 7\nEnter an integer or \"Q\": Quit\n\nTotal\n 12\n```  \n\n### The forever (while True) loop diagram  \nThis diagram represents only part of the assignment - it is the loop and nested if statements inside the function.  The code will enter at the while True loop after initializing variables.  \n\n![image of while True Loop with nested if statements described in bulleted text above](https://iajupyterprodblobs.blob.core.windows.net/imagecontainer/adding_report_loop_sketch.png)\n\n### Additional Details\n  \n- initialize `total` variable which will sum integer values entered  \n- initialize `items` variable which will build a string of the integer inputs separated with a *new line character*  \n- define the `adding_report` function with one parameter `report` that will be a string with default of \"T\"  \n- inside the function build a forever loop (infinite while loop) and inside the loop complete the following  \n  - use a variable to gather input (integer or \"Q\")  \n  - check if the input string is a digit (integer) and if it is...  \n    - add input iteger to total  \n    - if report type is \"A\" add the numeric character(s) to the item string seperated by a new line  \n  - if not a digit, check if the input string is \"Q\" or starts with a \"Q\", **if \"Q\"** then...  \n    - if the report type is \"A\" print out all the integer items entered and the sum total  \n    - if report type is \"T\" then print out the sum total only  \n    - `break` out of while loop to end the function after printing the report (\"A\" or \"T\") \n  - if not a digit and if not a \"Q\" then print a message that the \"input is invalid\"  \n\n- Call the `adding_report` function with \"A\" and then with \"T\" report parameters  \n- Run and test your code before submitting",
      "metadata": {}
    },
    {
      "cell_type": "code",
      "source": "# [ ] create, call and test the adding_report() function\n# then PASTE THIS CODE into edX\ndef adding_report(report):\n    t=0\n    items=\"\"\n    while True:\n        a=input(\"Input an integer to add to the total or 'Q' to quit:\\n\")\n        if a.isdigit():\n            items = (items + \"\\n\" + a)\n            a=int(a)\n            t=t+a\n        elif a.upper()==\"Q\":\n            if report==\"a\":\n                print(\"Items\\n\",items)\n                print(\"Total\\n\", t)\n            if report==\"t\":\n                print(\"Total\\n\", t)\n            break\n        else:\n            print(\"Invalid input!\")\nwhile True:\n    b = input(\"enter 'a' for complete report, or 't' just for the total report: \").lower()\n    if b==\"a\" or b==\"t\":\n        break\n    else:\n        print(\"error, A or T\")\nadding_report(b)",
      "metadata": {
        "collapsed": true,
        "trusted": true
      },
      "execution_count": 3,
      "outputs": [
        {
          "text": "error, A or T\nItems\n \n2\n2\n2 \n\nTotal\n 6\n",
          "name": "stdout",
          "output_type": "stream"
        }
      ]
    },
    {
      "cell_type": "markdown",
      "source": "### Need assignment tips and clarification? \nSee the video on the \"Final coding assignment > Final Required Code Description\" course page on [edX](https://courses.edx.org/courses/course-v1:Microsoft+DEV236x+4T2017/course)    \n\n# Important:  [How to submit the code in edX by pasting](https://courses.edx.org/courses/course-v1:Microsoft+DEV236x+1T2017/wiki/Microsoft.DEV236x.3T2018/paste-code-end-module-coding-assignments/)",
      "metadata": {}
    },
    {
      "cell_type": "markdown",
      "source": "[Terms of use](http://go.microsoft.com/fwlink/?LinkID=206977) &nbsp; [Privacy & cookies](https://go.microsoft.com/fwlink/?LinkId=521839) &nbsp; © 2017 Microsoft",
      "metadata": {}
    }
  ]
}